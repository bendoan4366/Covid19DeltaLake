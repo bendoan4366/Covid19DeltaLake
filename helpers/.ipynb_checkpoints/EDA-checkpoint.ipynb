{
 "cells": [
  {
   "cell_type": "code",
   "execution_count": 2,
   "metadata": {},
   "outputs": [],
   "source": [
    "from read_s3_boto import *"
   ]
  },
  {
   "cell_type": "code",
   "execution_count": 53,
   "metadata": {},
   "outputs": [],
   "source": [
    "import pyspark\n",
    "from pyspark.sql import SparkSession\n",
    "from pyspark.sql.functions import isnan, when, count, col\n",
    "import pandas as pd\n",
    "import os\n",
    "\n",
    "spark = pyspark.sql.SparkSession.builder.appName(\"EDA\") \\\n",
    "        .getOrCreate()"
   ]
  },
  {
   "cell_type": "code",
   "execution_count": 30,
   "metadata": {},
   "outputs": [],
   "source": [
    "bucket = \"covid19-lake\"\n",
    "cases_pref = \"rearc-covid-19-nyt-data-in-usa/csv/us-counties\"\n",
    "tests_pref = \"rearc-covid-19-testing-data/json/states_daily\"\n",
    "pop_pref = \"static-datasets/csv/CountyPopulation\""
   ]
  },
  {
   "cell_type": "code",
   "execution_count": 31,
   "metadata": {},
   "outputs": [],
   "source": [
    "cases_key = get_matching_s3_keys(bucket, cases_pref, \"csv\")\n",
    "tests_key = get_matching_s3_keys(bucket, tests_pref, \"json\")\n",
    "pop_key = get_matching_s3_keys(bucket, pop_pref, \"csv\")"
   ]
  },
  {
   "cell_type": "code",
   "execution_count": 34,
   "metadata": {},
   "outputs": [],
   "source": [
    "cases_df = get_spark_dataframes(spark, bucket, cases_pref, \"csv\", \"csv\")\n",
    "tests_df = get_spark_dataframes(spark, bucket, tests_pref, \"json\", \"json\")\n",
    "pop_df = get_spark_dataframes(spark, bucket, pop_pref, \"csv\", \"csv\")"
   ]
  },
  {
   "cell_type": "code",
   "execution_count": 55,
   "metadata": {},
   "outputs": [],
   "source": [
    "### initialize helper functions\n",
    "\n",
    "###function to grab all numeric variables for model training\n",
    "def getNumericColumns(df):\n",
    "  numeric_features = []\n",
    "  for c, t in df.dtypes:\n",
    "    if t == \"double\" or t == \"int\" or t == \"float\":\n",
    "      numeric_features.append(c)\n",
    "  \n",
    "  return numeric_features\n",
    "\n",
    "###function to display NaN counts by column\n",
    "def countNaNs(df):\n",
    "  nanTable = df.select([count(when(isnan(c), c)).alias(c) for c in df.columns])\n",
    "  return nanTable\n",
    "\n",
    "##count nulls\n",
    "def countNulls(df):\n",
    "  nullTable = df.select([count(when(col(c).isNull(), c)).alias(c) for c in df.columns])\n",
    "  return nullTable\n",
    "\n",
    "###function to print all correlations b/n features and target (unvectorized)\n",
    "def printCorrs(df, features, target):\n",
    "  for f in features:\n",
    "    print(\"Correlation for target variable \" + target + \" and \"+ f + \": \" + str(df.corr(f, target)))\n",
    "    \n",
    "def getCorr(df, feature, target):\n",
    "  return df.select(corr(feature, target))"
   ]
  },
  {
   "cell_type": "markdown",
   "metadata": {},
   "source": [
    "### Checking Table Schemas"
   ]
  },
  {
   "cell_type": "code",
   "execution_count": 70,
   "metadata": {},
   "outputs": [
    {
     "name": "stdout",
     "output_type": "stream",
     "text": [
      "+----------+---------+----------+-------+-----+------+\n",
      "|      date|   county|     state|   fips|cases|deaths|\n",
      "+----------+---------+----------+-------+-----+------+\n",
      "|2020-01-21|Snohomish|Washington|53061.0|    1|     0|\n",
      "|2020-01-22|Snohomish|Washington|53061.0|    1|     0|\n",
      "|2020-01-23|Snohomish|Washington|53061.0|    1|     0|\n",
      "|2020-01-24|     Cook|  Illinois|17031.0|    1|     0|\n",
      "|2020-01-24|Snohomish|Washington|53061.0|    1|     0|\n",
      "+----------+---------+----------+-------+-----+------+\n",
      "only showing top 5 rows\n",
      "\n",
      "root\n",
      " |-- date: string (nullable = true)\n",
      " |-- county: string (nullable = true)\n",
      " |-- state: string (nullable = true)\n",
      " |-- fips: double (nullable = true)\n",
      " |-- cases: long (nullable = true)\n",
      " |-- deaths: long (nullable = true)\n",
      "\n"
     ]
    }
   ],
   "source": [
    "cases_df.show(5)\n",
    "cases_df.printSchema()"
   ]
  },
  {
   "cell_type": "code",
   "execution_count": 69,
   "metadata": {},
   "outputs": [
    {
     "name": "stdout",
     "output_type": "stream",
     "text": [
      "+--------+-----+--------+---------+------+------------+---------+\n",
      "|    date|state|positive| negative| death|hospitalized|    total|\n",
      "+--------+-----+--------+---------+------+------------+---------+\n",
      "|20200921|   AK|  7838.0| 420807.0|  45.0|         NaN| 428645.0|\n",
      "|20200921|   AL|145780.0| 928112.0|2439.0|     16487.0|1073892.0|\n",
      "|20200921|   AR| 76364.0| 817238.0|1197.0|      4986.0| 893602.0|\n",
      "|20200921|   AS|     0.0|   1571.0|   0.0|         NaN|   1571.0|\n",
      "|20200921|   AZ|214251.0|1176711.0|5478.0|     21878.0|1390962.0|\n",
      "+--------+-----+--------+---------+------+------------+---------+\n",
      "only showing top 5 rows\n",
      "\n",
      "root\n",
      " |-- date: long (nullable = true)\n",
      " |-- state: string (nullable = true)\n",
      " |-- positive: double (nullable = true)\n",
      " |-- negative: double (nullable = true)\n",
      " |-- death: double (nullable = true)\n",
      " |-- total: double (nullable = true)\n",
      " |-- hash: string (nullable = true)\n",
      " |-- dateChecked: string (nullable = true)\n",
      " |-- totalTestResults: double (nullable = true)\n",
      " |-- fips: long (nullable = true)\n",
      " |-- deathIncrease: long (nullable = true)\n",
      " |-- hospitalizedIncrease: long (nullable = true)\n",
      " |-- negativeIncrease: long (nullable = true)\n",
      " |-- positiveIncrease: long (nullable = true)\n",
      " |-- totalTestResultsIncrease: long (nullable = true)\n",
      " |-- hospitalized: double (nullable = true)\n",
      " |-- pending: double (nullable = true)\n",
      "\n"
     ]
    }
   ],
   "source": [
    "tests_df.select(\"date\", \"state\", \"positive\", \"negative\", \"death\", \"hospitalized\",\"total\").show(5)\n",
    "tests_df.printSchema()"
   ]
  },
  {
   "cell_type": "code",
   "execution_count": 68,
   "metadata": {},
   "outputs": [
    {
     "name": "stdout",
     "output_type": "stream",
     "text": [
      "+--------------+----+-------+-------+------------------------+\n",
      "|            Id| Id2| County|  State|Population Estimate 2018|\n",
      "+--------------+----+-------+-------+------------------------+\n",
      "|0500000US01001|1001|Autauga|Alabama|                   55601|\n",
      "|0500000US01003|1003|Baldwin|Alabama|                  218022|\n",
      "|0500000US01005|1005|Barbour|Alabama|                   24881|\n",
      "|0500000US01007|1007|   Bibb|Alabama|                   22400|\n",
      "|0500000US01009|1009| Blount|Alabama|                   57840|\n",
      "+--------------+----+-------+-------+------------------------+\n",
      "only showing top 5 rows\n",
      "\n",
      "root\n",
      " |-- Id: string (nullable = true)\n",
      " |-- Id2: long (nullable = true)\n",
      " |-- County: string (nullable = true)\n",
      " |-- State: string (nullable = true)\n",
      " |-- Population Estimate 2018: long (nullable = true)\n",
      "\n"
     ]
    }
   ],
   "source": [
    "pop_df.show(5)\n",
    "pop_df.printSchema()"
   ]
  },
  {
   "cell_type": "markdown",
   "metadata": {},
   "source": [
    "#### Analysis\n",
    "\n",
    "Initial Analysis shows that Date values vary across the different data sources, which will have to be normalized via dim table or by adding a date time column to the respective fact tables.\n",
    "\n",
    "Additionally the usage of state names and abbreviations will also have to be normalized via dim table, in order to allow consistiancy and relation across the tables."
   ]
  },
  {
   "cell_type": "markdown",
   "metadata": {},
   "source": [
    "### Checking for Nulls/Invalids"
   ]
  },
  {
   "cell_type": "code",
   "execution_count": 58,
   "metadata": {},
   "outputs": [
    {
     "name": "stdout",
     "output_type": "stream",
     "text": [
      "=================Null values for Covid_Case Table=================\n",
      "\n",
      "+----+------+-----+----+-----+------+\n",
      "|date|county|state|fips|cases|deaths|\n",
      "+----+------+-----+----+-----+------+\n",
      "|   0|     0|    0|   0|    0|     0|\n",
      "+----+------+-----+----+-----+------+\n",
      "\n",
      "\n",
      "=================NaN values for Covid_Case Table=================\n",
      "+----+------+-----+----+-----+------+\n",
      "|date|county|state|fips|cases|deaths|\n",
      "+----+------+-----+----+-----+------+\n",
      "|   0|     0|    0|5363|    0|     0|\n",
      "+----+------+-----+----+-----+------+\n",
      "\n"
     ]
    }
   ],
   "source": [
    "cases_nulls = countNulls(cases_df)\n",
    "cases_NaNs = countNaNs(cases_df)\n",
    "\n",
    "print(\"=================Null values for Covid_Case Table=================\")\n",
    "cases_nulls.show()\n",
    "print(\"\\n=================NaN values for Covid_Case Table=================\")\n",
    "cases_NaNs.show()"
   ]
  },
  {
   "cell_type": "code",
   "execution_count": 71,
   "metadata": {},
   "outputs": [
    {
     "name": "stdout",
     "output_type": "stream",
     "text": [
      "=================Null values for Covid_Test Table=================\n",
      "+----+-----+--------+--------+-----+-----+----+-----------+----------------+----+-------------+--------------------+----------------+----------------+------------------------+------------+-------+\n",
      "|date|state|positive|negative|death|total|hash|dateChecked|totalTestResults|fips|deathIncrease|hospitalizedIncrease|negativeIncrease|positiveIncrease|totalTestResultsIncrease|hospitalized|pending|\n",
      "+----+-----+--------+--------+-----+-----+----+-----------+----------------+----+-------------+--------------------+----------------+----------------+------------------------+------------+-------+\n",
      "|   0|    0|       0|       0|    0|    0|   0|          0|               0|   0|            0|                   0|               0|               0|                       0|           0|      0|\n",
      "+----+-----+--------+--------+-----+-----+----+-----------+----------------+----+-------------+--------------------+----------------+----------------+------------------------+------------+-------+\n",
      "\n",
      "\n",
      "=================NaN values for Covid_Test Table=================\n",
      "+----+-----+--------+--------+-----+----+-----------+----------------+\n",
      "|date|state|positive|negative|death|hash|dateChecked|totalTestResults|\n",
      "+----+-----+--------+--------+-----+----+-----------+----------------+\n",
      "|   0|    0|     124|     262|  755|   0|          0|             117|\n",
      "+----+-----+--------+--------+-----+----+-----------+----------------+\n",
      "\n",
      "+----+-------------+--------------------+----------------+----------------+------------------------+------------+-------+\n",
      "|fips|deathIncrease|hospitalizedIncrease|negativeIncrease|positiveIncrease|totalTestResultsIncrease|hospitalized|pending|\n",
      "+----+-------------+--------------------+----------------+----------------+------------------------+------------+-------+\n",
      "|   0|            0|                   0|               0|               0|                       0|        4929|   9994|\n",
      "+----+-------------+--------------------+----------------+----------------+------------------------+------------+-------+\n",
      "\n"
     ]
    }
   ],
   "source": [
    "tests_nulls = countNulls(tests_df)\n",
    "tests_NaNs = countNaNs(tests_df)\n",
    "\n",
    "print(\"=================Null values for Covid_Test Table=================\")\n",
    "tests_nulls.show()\n",
    "print(\"\\n=================NaN values for Covid_Test Table=================\")\n",
    "tests_NaNs.select(\"date\", \"state\", \"positive\", \"negative\", \"death\",\"hash\",\"dateChecked\", \"totalTestResults\").show()\n",
    "tests_NaNs.select(\"fips\", \"deathIncrease\", \"hospitalizedIncrease\", \"negativeIncrease\", \"positiveIncrease\",\"totalTestResultsIncrease\",\"hospitalized\", \"pending\").show()"
   ]
  },
  {
   "cell_type": "code",
   "execution_count": 74,
   "metadata": {},
   "outputs": [
    {
     "name": "stdout",
     "output_type": "stream",
     "text": [
      "=================Null values for Populations Table=================\n",
      "+---+---+------+-----+------------------------+\n",
      "| Id|Id2|County|State|Population Estimate 2018|\n",
      "+---+---+------+-----+------------------------+\n",
      "|  0|  0|     0|    0|                       0|\n",
      "+---+---+------+-----+------------------------+\n",
      "\n",
      "\n",
      "=================NaN values for Populations Table=================\n",
      "+---+---+------+-----+------------------------+\n",
      "| Id|Id2|County|State|Population Estimate 2018|\n",
      "+---+---+------+-----+------------------------+\n",
      "|  0|  0|     0|    0|                       0|\n",
      "+---+---+------+-----+------------------------+\n",
      "\n"
     ]
    }
   ],
   "source": [
    "pop_nulls = countNulls(pop_df)\n",
    "pop_NaNs = countNaNs(pop_df)\n",
    "\n",
    "print(\"=================Null values for Populations Table=================\")\n",
    "pop_nulls.show()\n",
    "print(\"\\n=================NaN values for Populations Table=================\")\n",
    "pop_NaNs.show()"
   ]
  },
  {
   "cell_type": "markdown",
   "metadata": {},
   "source": [
    "#### Analysis\n",
    "\n",
    "There are a handful of missing values in the test and cases table, but the instance count is small enough (several thousand missing out of hundreds of thousands of rows) that the rows can dropped. This can be handled in ETL preprocessing  "
   ]
  },
  {
   "cell_type": "markdown",
   "metadata": {},
   "source": [
    "### Other EDA"
   ]
  },
  {
   "cell_type": "code",
   "execution_count": 80,
   "metadata": {},
   "outputs": [
    {
     "name": "stdout",
     "output_type": "stream",
     "text": [
      "+--------------+-----+\n",
      "|         state|count|\n",
      "+--------------+-----+\n",
      "|         Texas|41426|\n",
      "|       Georgia|29049|\n",
      "|      Virginia|23453|\n",
      "|      Kentucky|20692|\n",
      "|      Missouri|19516|\n",
      "|North Carolina|17908|\n",
      "|      Illinois|17889|\n",
      "|     Tennessee|17232|\n",
      "|          Iowa|17170|\n",
      "|       Indiana|16778|\n",
      "|        Kansas|16173|\n",
      "|          Ohio|15954|\n",
      "|     Minnesota|15171|\n",
      "|   Mississippi|14971|\n",
      "|      Michigan|14886|\n",
      "|      Arkansas|13508|\n",
      "|      Oklahoma|13202|\n",
      "|      Nebraska|13164|\n",
      "|     Wisconsin|12834|\n",
      "|       Florida|12630|\n",
      "|  Pennsylvania|12308|\n",
      "|       Alabama|12179|\n",
      "|     Louisiana|11968|\n",
      "|      Colorado|11193|\n",
      "|   Puerto Rico|11076|\n",
      "|      New York|10950|\n",
      "|    California|10943|\n",
      "|  South Dakota|10018|\n",
      "| West Virginia| 9291|\n",
      "|South Carolina| 8537|\n",
      "|  North Dakota| 8154|\n",
      "|    Washington| 7436|\n",
      "|       Montana| 7127|\n",
      "|         Idaho| 6819|\n",
      "|        Oregon| 6232|\n",
      "|    New Mexico| 5545|\n",
      "|          Utah| 4949|\n",
      "|      Maryland| 4670|\n",
      "|    New Jersey| 4239|\n",
      "|       Wyoming| 4038|\n",
      "|        Alaska| 3877|\n",
      "|         Maine| 3058|\n",
      "| Massachusetts| 2929|\n",
      "|       Arizona| 2878|\n",
      "|       Vermont| 2773|\n",
      "|        Nevada| 2676|\n",
      "| New Hampshire| 2023|\n",
      "|   Connecticut| 1700|\n",
      "|  Rhode Island| 1110|\n",
      "|        Hawaii|  802|\n",
      "+--------------+-----+\n",
      "only showing top 50 rows\n",
      "\n"
     ]
    }
   ],
   "source": [
    "cases_df.groupBy(\"state\").count().orderBy(col(\"count\").desc()).show(50)"
   ]
  },
  {
   "cell_type": "code",
   "execution_count": null,
   "metadata": {},
   "outputs": [],
   "source": []
  }
 ],
 "metadata": {
  "kernelspec": {
   "display_name": "Python 3",
   "language": "python",
   "name": "python3"
  },
  "language_info": {
   "codemirror_mode": {
    "name": "ipython",
    "version": 3
   },
   "file_extension": ".py",
   "mimetype": "text/x-python",
   "name": "python",
   "nbconvert_exporter": "python",
   "pygments_lexer": "ipython3",
   "version": "3.7.4"
  }
 },
 "nbformat": 4,
 "nbformat_minor": 2
}
