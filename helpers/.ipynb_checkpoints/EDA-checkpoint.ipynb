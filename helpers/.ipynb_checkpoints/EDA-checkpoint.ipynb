{
 "cells": [
  {
   "cell_type": "code",
   "execution_count": 3,
   "metadata": {},
   "outputs": [],
   "source": [
    "import pyspark\n",
    "from pyspark.sql import SparkSession\n",
    "import pandas as pd\n",
    "import os\n",
    "\n",
    "spark = pyspark.sql.SparkSession.builder.appName(\"DeltaTest\") \\\n",
    "    .config(\"spark.jars.packages\", \"io.delta:delta-core_2.12:0.7.0\") \\\n",
    "    .config(\"spark.sql.extensions\", \"io.delta.sql.DeltaSparkSessionExtension\") \\\n",
    "    .config(\"spark.sql.catalog.spark_catalog\", \"org.apache.spark.sql.delta.catalog.DeltaCatalog\") \\\n",
    "    .getOrCreate()\n",
    "\n",
    "from delta.tables import *"
   ]
  },
  {
   "cell_type": "code",
   "execution_count": 4,
   "metadata": {},
   "outputs": [],
   "source": [
    "aws_access_key = os.getenv(\"AWS_ACCESS_KEY\")\n",
    "aws_secret = os.getenv(\"AWS_SECRET_ACCESS_KEY_ID\")\n",
    "\n",
    "spark.sparkContext._jsc.hadoopConfiguration().set(\"fs.s3n.awsAccessKeyId\", aws_access_key)\n",
    "spark.sparkContext._jsc.hadoopConfiguration().set(\"fs.s3n.awsSecretAccessKey\", aws_secret)\n",
    "spark.sparkContext._jsc.hadoopConfiguration().set(\"fs.s3n.endpoint\", \"s3.amazonaws.com\")"
   ]
  },
  {
   "cell_type": "code",
   "execution_count": 47,
   "metadata": {},
   "outputs": [],
   "source": [
    "df = spark.read.parquet(\"s3n://covid-delta-lake/test/cases/*.parquet\")"
   ]
  },
  {
   "cell_type": "code",
   "execution_count": 48,
   "metadata": {},
   "outputs": [
    {
     "name": "stdout",
     "output_type": "stream",
     "text": [
      "+----------+--------------+--------+-------+-----+------+\n",
      "|      date|        county|   state|   fips|cases|deaths|\n",
      "+----------+--------------+--------+-------+-----+------+\n",
      "|2020-08-28| Isle of Wight|Virginia|51093.0|  519|    11|\n",
      "|2020-08-28|    James City|Virginia|51095.0|  726|    18|\n",
      "|2020-08-28|   King George|Virginia|51099.0|  202|     4|\n",
      "|2020-08-28|  King William|Virginia|51101.0|  111|     2|\n",
      "|2020-08-28|King and Queen|Virginia|51097.0|   49|     1|\n",
      "|2020-08-28|     Lancaster|Virginia|51103.0|   66|     0|\n",
      "|2020-08-28|           Lee|Virginia|51105.0|  183|     3|\n",
      "|2020-08-28|Lexington city|Virginia|51678.0|   42|     0|\n",
      "|2020-08-28|       Loudoun|Virginia|51107.0| 5878|   118|\n",
      "|2020-08-28|        Louisa|Virginia|51109.0|  243|     2|\n",
      "+----------+--------------+--------+-------+-----+------+\n",
      "only showing top 10 rows\n",
      "\n"
     ]
    }
   ],
   "source": [
    "df.show(10)"
   ]
  },
  {
   "cell_type": "code",
   "execution_count": 49,
   "metadata": {},
   "outputs": [
    {
     "name": "stdout",
     "output_type": "stream",
     "text": [
      "root\n",
      " |-- date: string (nullable = true)\n",
      " |-- county: string (nullable = true)\n",
      " |-- state: string (nullable = true)\n",
      " |-- fips: double (nullable = true)\n",
      " |-- cases: long (nullable = true)\n",
      " |-- deaths: long (nullable = true)\n",
      "\n"
     ]
    }
   ],
   "source": [
    "df.printSchema()"
   ]
  },
  {
   "cell_type": "code",
   "execution_count": 8,
   "metadata": {},
   "outputs": [],
   "source": [
    "df_testing = spark.read.parquet(\"s3n://covid-delta-lake/test/tests/*.parquet\")"
   ]
  },
  {
   "cell_type": "code",
   "execution_count": 10,
   "metadata": {},
   "outputs": [
    {
     "name": "stdout",
     "output_type": "stream",
     "text": [
      "root\n",
      " |-- date: long (nullable = true)\n",
      " |-- state: string (nullable = true)\n",
      " |-- positive: double (nullable = true)\n",
      " |-- negative: double (nullable = true)\n",
      " |-- death: double (nullable = true)\n",
      " |-- total: double (nullable = true)\n",
      " |-- hash: string (nullable = true)\n",
      " |-- dateChecked: string (nullable = true)\n",
      " |-- totalTestResults: double (nullable = true)\n",
      " |-- fips: long (nullable = true)\n",
      " |-- deathIncrease: long (nullable = true)\n",
      " |-- hospitalizedIncrease: long (nullable = true)\n",
      " |-- negativeIncrease: long (nullable = true)\n",
      " |-- positiveIncrease: long (nullable = true)\n",
      " |-- totalTestResultsIncrease: long (nullable = true)\n",
      " |-- hospitalized: double (nullable = true)\n",
      " |-- pending: double (nullable = true)\n",
      "\n"
     ]
    }
   ],
   "source": [
    "df_testing.printSchema()"
   ]
  },
  {
   "cell_type": "code",
   "execution_count": 14,
   "metadata": {},
   "outputs": [
    {
     "name": "stdout",
     "output_type": "stream",
     "text": [
      "+--------+-----+--------+---------+-------+----------------+\n",
      "|    date|state|positive| negative|  death|totalTestResults|\n",
      "+--------+-----+--------+---------+-------+----------------+\n",
      "|20200813|   NE| 29244.0| 280400.0|  356.0|        309644.0|\n",
      "|20200813|   NH|  6921.0| 174695.0|  422.0|        272051.0|\n",
      "|20200813|   NJ|186594.0|2217096.0|15841.0|       2403690.0|\n",
      "|20200813|   NM| 22816.0| 622007.0|  695.0|        644823.0|\n",
      "|20200813|   NV| 58650.0| 474494.0| 1030.0|        533144.0|\n",
      "|20200813|   NY|423440.0|6392941.0|25228.0|       6816381.0|\n",
      "|20200813|   OH|105426.0|1647881.0| 3755.0|       1753307.0|\n",
      "|20200813|   OK| 46103.0| 685169.0|  638.0|        731272.0|\n",
      "|20200813|   OR| 22300.0| 444963.0|  383.0|        467263.0|\n",
      "|20200813|   PA|122121.0|1288873.0| 7409.0|       1410994.0|\n",
      "|20200813|   PR| 24446.0| 305972.0|  306.0|        330418.0|\n",
      "|20200813|   RI| 20240.0| 208234.0| 1019.0|        416203.0|\n",
      "|20200813|   SC|103909.0| 702119.0| 2186.0|        806028.0|\n",
      "|20200813|   SD|  9897.0| 114873.0|  148.0|        124770.0|\n",
      "|20200813|   TN|128511.0|1659210.0| 1313.0|       1787721.0|\n",
      "|20200813|   TX|513575.0|3717188.0| 9289.0|       4230763.0|\n",
      "|20200813|   UT| 45424.0| 539232.0|  353.0|        584656.0|\n",
      "|20200813|   VA|103622.0|1202481.0| 2363.0|       1301909.0|\n",
      "|20200813|   VI|   682.0|  10968.0|    9.0|         11650.0|\n",
      "|20200813|   VT|  1484.0| 104423.0|   58.0|        105907.0|\n",
      "+--------+-----+--------+---------+-------+----------------+\n",
      "only showing top 20 rows\n",
      "\n"
     ]
    }
   ],
   "source": [
    "df_testing.select(\"date\",\"state\",\"positive\", \"negative\", \"death\",\"totalTestResults\").show()"
   ]
  },
  {
   "cell_type": "code",
   "execution_count": 16,
   "metadata": {},
   "outputs": [],
   "source": [
    "df_populations = spark.read.parquet(\"s3n://covid-delta-lake/test/populations/*.parquet\")"
   ]
  },
  {
   "cell_type": "code",
   "execution_count": 17,
   "metadata": {},
   "outputs": [
    {
     "name": "stdout",
     "output_type": "stream",
     "text": [
      "+--------------+----+--------+-------+-----------------+\n",
      "|            Id| Id2|  County|  State|2018_pop_estimate|\n",
      "+--------------+----+--------+-------+-----------------+\n",
      "|0500000US01001|1001| Autauga|Alabama|            55601|\n",
      "|0500000US01003|1003| Baldwin|Alabama|           218022|\n",
      "|0500000US01005|1005| Barbour|Alabama|            24881|\n",
      "|0500000US01007|1007|    Bibb|Alabama|            22400|\n",
      "|0500000US01009|1009|  Blount|Alabama|            57840|\n",
      "|0500000US01011|1011| Bullock|Alabama|            10138|\n",
      "|0500000US01013|1013|  Butler|Alabama|            19680|\n",
      "|0500000US01015|1015| Calhoun|Alabama|           114277|\n",
      "|0500000US01017|1017|Chambers|Alabama|            33615|\n",
      "|0500000US01019|1019|Cherokee|Alabama|            26032|\n",
      "+--------------+----+--------+-------+-----------------+\n",
      "only showing top 10 rows\n",
      "\n"
     ]
    }
   ],
   "source": [
    "df_populations.show(10)"
   ]
  },
  {
   "cell_type": "code",
   "execution_count": 18,
   "metadata": {},
   "outputs": [
    {
     "name": "stdout",
     "output_type": "stream",
     "text": [
      "root\n",
      " |-- Id: string (nullable = true)\n",
      " |-- Id2: long (nullable = true)\n",
      " |-- County: string (nullable = true)\n",
      " |-- State: string (nullable = true)\n",
      " |-- 2018_pop_estimate: long (nullable = true)\n",
      "\n"
     ]
    }
   ],
   "source": [
    "df_populations.printSchema()"
   ]
  },
  {
   "cell_type": "code",
   "execution_count": 23,
   "metadata": {},
   "outputs": [],
   "source": [
    "df_states= spark.read.option(\"header\", True).csv(\"s3n://covid-delta-lake/static/*.csv\")"
   ]
  },
  {
   "cell_type": "code",
   "execution_count": 24,
   "metadata": {},
   "outputs": [
    {
     "name": "stdout",
     "output_type": "stream",
     "text": [
      "root\n",
      " |-- State: string (nullable = true)\n",
      " |-- Abbrev: string (nullable = true)\n",
      " |-- Code: string (nullable = true)\n",
      "\n"
     ]
    }
   ],
   "source": [
    "df_states.printSchema()"
   ]
  },
  {
   "cell_type": "code",
   "execution_count": 45,
   "metadata": {},
   "outputs": [
    {
     "name": "stdout",
     "output_type": "stream",
     "text": [
      "+--------------------+------+----+\n",
      "|          state_full|Abbrev|Code|\n",
      "+--------------------+------+----+\n",
      "|             Alabama|  Ala.|  AL|\n",
      "|              Alaska|Alaska|  AK|\n",
      "|             Arizona| Ariz.|  AZ|\n",
      "|            Arkansas|  Ark.|  AR|\n",
      "|          California|Calif.|  CA|\n",
      "|            Colorado| Colo.|  CO|\n",
      "|         Connecticut| Conn.|  CT|\n",
      "|            Delaware|  Del.|  DE|\n",
      "|District of Columbia|  D.C.|  DC|\n",
      "|             Florida|  Fla.|  FL|\n",
      "+--------------------+------+----+\n",
      "only showing top 10 rows\n",
      "\n"
     ]
    }
   ],
   "source": [
    "df_states = df_states.withColumnRenamed(\"State\", \"state_full\")\n",
    "df_states.show(10)"
   ]
  },
  {
   "cell_type": "code",
   "execution_count": 51,
   "metadata": {},
   "outputs": [],
   "source": [
    "df = df.join(df_states.select(\"state_full\", \"Code\"), df_states[\"state_full\"] == df[\"state\"], \"inner\").select(\"date\", \"county\", \"state_full\", \"fips\", \"cases\", \"deaths\", \"code\")"
   ]
  },
  {
   "cell_type": "code",
   "execution_count": 52,
   "metadata": {},
   "outputs": [
    {
     "name": "stdout",
     "output_type": "stream",
     "text": [
      "+----------+------------------+----------+-------+-----+------+----+\n",
      "|      date|            county|state_full|   fips|cases|deaths|code|\n",
      "+----------+------------------+----------+-------+-----+------+----+\n",
      "|2020-08-28|     Isle of Wight|  Virginia|51093.0|  519|    11|  VA|\n",
      "|2020-08-28|        James City|  Virginia|51095.0|  726|    18|  VA|\n",
      "|2020-08-28|       King George|  Virginia|51099.0|  202|     4|  VA|\n",
      "|2020-08-28|      King William|  Virginia|51101.0|  111|     2|  VA|\n",
      "|2020-08-28|    King and Queen|  Virginia|51097.0|   49|     1|  VA|\n",
      "|2020-08-28|         Lancaster|  Virginia|51103.0|   66|     0|  VA|\n",
      "|2020-08-28|               Lee|  Virginia|51105.0|  183|     3|  VA|\n",
      "|2020-08-28|    Lexington city|  Virginia|51678.0|   42|     0|  VA|\n",
      "|2020-08-28|           Loudoun|  Virginia|51107.0| 5878|   118|  VA|\n",
      "|2020-08-28|            Louisa|  Virginia|51109.0|  243|     2|  VA|\n",
      "|2020-08-28|         Lunenburg|  Virginia|51111.0|   93|     2|  VA|\n",
      "|2020-08-28|    Lynchburg city|  Virginia|51680.0|  936|     5|  VA|\n",
      "|2020-08-28|           Madison|  Virginia|51113.0|   87|     2|  VA|\n",
      "|2020-08-28|Manassas Park city|  Virginia|51685.0|  558|     7|  VA|\n",
      "|2020-08-28|     Manassas city|  Virginia|51683.0| 1782|    23|  VA|\n",
      "|2020-08-28| Martinsville city|  Virginia|51690.0|  316|     6|  VA|\n",
      "|2020-08-28|           Mathews|  Virginia|51115.0|   23|     0|  VA|\n",
      "|2020-08-28|       Mecklenburg|  Virginia|51117.0|  501|    33|  VA|\n",
      "|2020-08-28|         Middlesex|  Virginia|51119.0|   55|     1|  VA|\n",
      "|2020-08-28|        Montgomery|  Virginia|51121.0|  427|     3|  VA|\n",
      "+----------+------------------+----------+-------+-----+------+----+\n",
      "only showing top 20 rows\n",
      "\n"
     ]
    }
   ],
   "source": [
    "df.show()"
   ]
  },
  {
   "cell_type": "code",
   "execution_count": 53,
   "metadata": {},
   "outputs": [
    {
     "name": "stdout",
     "output_type": "stream",
     "text": [
      "root\n",
      " |-- date: string (nullable = true)\n",
      " |-- county: string (nullable = true)\n",
      " |-- state_full: string (nullable = true)\n",
      " |-- fips: double (nullable = true)\n",
      " |-- cases: long (nullable = true)\n",
      " |-- deaths: long (nullable = true)\n",
      " |-- code: string (nullable = true)\n",
      "\n"
     ]
    }
   ],
   "source": [
    "df.printSchema()"
   ]
  },
  {
   "cell_type": "code",
   "execution_count": 1,
   "metadata": {},
   "outputs": [],
   "source": [
    "import configparser"
   ]
  },
  {
   "cell_type": "code",
   "execution_count": 3,
   "metadata": {},
   "outputs": [
    {
     "data": {
      "text/plain": [
       "['redshift.cfg']"
      ]
     },
     "execution_count": 3,
     "metadata": {},
     "output_type": "execute_result"
    }
   ],
   "source": [
    "config = configparser.ConfigParser()\n",
    "config.read('redshift.cfg')"
   ]
  },
  {
   "cell_type": "code",
   "execution_count": null,
   "metadata": {},
   "outputs": [],
   "source": []
  },
  {
   "cell_type": "code",
   "execution_count": null,
   "metadata": {},
   "outputs": [],
   "source": []
  }
 ],
 "metadata": {
  "kernelspec": {
   "display_name": "Python 3",
   "language": "python",
   "name": "python3"
  },
  "language_info": {
   "codemirror_mode": {
    "name": "ipython",
    "version": 3
   },
   "file_extension": ".py",
   "mimetype": "text/x-python",
   "name": "python",
   "nbconvert_exporter": "python",
   "pygments_lexer": "ipython3",
   "version": "3.7.4"
  }
 },
 "nbformat": 4,
 "nbformat_minor": 2
}
