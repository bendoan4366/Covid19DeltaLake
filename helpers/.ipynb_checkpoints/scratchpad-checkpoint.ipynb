{
 "cells": [
  {
   "cell_type": "code",
   "execution_count": 53,
   "metadata": {},
   "outputs": [],
   "source": [
    "import pyspark\n",
    "from pyspark.sql import SparkSession\n",
    "import pandas as pd\n",
    "import os\n",
    "\n",
    "spark = pyspark.sql.SparkSession.builder.appName(\"DeltaTest\") \\\n",
    "    .config(\"spark.jars.packages\", \"io.delta:delta-core_2.12:0.7.0\") \\\n",
    "    .config(\"spark.sql.extensions\", \"io.delta.sql.DeltaSparkSessionExtension\") \\\n",
    "    .config(\"spark.sql.catalog.spark_catalog\", \"org.apache.spark.sql.delta.catalog.DeltaCatalog\") \\\n",
    "    .getOrCreate()\n",
    "\n",
    "from delta.tables import *"
   ]
  },
  {
   "cell_type": "code",
   "execution_count": 54,
   "metadata": {},
   "outputs": [],
   "source": [
    "aws_access_key = os.getenv(\"AWS_ACCESS_KEY\")\n",
    "aws_secret = os.getenv(\"AWS_SECRET_ACCESS_KEY_ID\")\n",
    "\n",
    "spark.sparkContext._jsc.hadoopConfiguration().set(\"fs.s3n.awsAccessKeyId\", aws_access_key)\n",
    "spark.sparkContext._jsc.hadoopConfiguration().set(\"fs.s3n.awsSecretAccessKey\", aws_secret)\n",
    "spark.sparkContext._jsc.hadoopConfiguration().set(\"fs.s3n.endpoint\", \"s3.amazonaws.com\")"
   ]
  },
  {
   "cell_type": "code",
   "execution_count": 55,
   "metadata": {},
   "outputs": [],
   "source": [
    "df = spark.read.parquet(\"s3n://covid-delta-lake/test/cases/*.parquet\")"
   ]
  },
  {
   "cell_type": "code",
   "execution_count": 56,
   "metadata": {},
   "outputs": [
    {
     "name": "stdout",
     "output_type": "stream",
     "text": [
      "+----------+--------------+--------+-------+-----+------+\n",
      "|      date|        county|   state|   fips|cases|deaths|\n",
      "+----------+--------------+--------+-------+-----+------+\n",
      "|2020-08-28| Isle of Wight|Virginia|51093.0|  519|    11|\n",
      "|2020-08-28|    James City|Virginia|51095.0|  726|    18|\n",
      "|2020-08-28|   King George|Virginia|51099.0|  202|     4|\n",
      "|2020-08-28|  King William|Virginia|51101.0|  111|     2|\n",
      "|2020-08-28|King and Queen|Virginia|51097.0|   49|     1|\n",
      "|2020-08-28|     Lancaster|Virginia|51103.0|   66|     0|\n",
      "|2020-08-28|           Lee|Virginia|51105.0|  183|     3|\n",
      "|2020-08-28|Lexington city|Virginia|51678.0|   42|     0|\n",
      "|2020-08-28|       Loudoun|Virginia|51107.0| 5878|   118|\n",
      "|2020-08-28|        Louisa|Virginia|51109.0|  243|     2|\n",
      "+----------+--------------+--------+-------+-----+------+\n",
      "only showing top 10 rows\n",
      "\n"
     ]
    }
   ],
   "source": [
    "df.show(10)"
   ]
  },
  {
   "cell_type": "code",
   "execution_count": 57,
   "metadata": {},
   "outputs": [
    {
     "name": "stdout",
     "output_type": "stream",
     "text": [
      "root\n",
      " |-- date: string (nullable = true)\n",
      " |-- county: string (nullable = true)\n",
      " |-- state: string (nullable = true)\n",
      " |-- fips: double (nullable = true)\n",
      " |-- cases: long (nullable = true)\n",
      " |-- deaths: long (nullable = true)\n",
      "\n"
     ]
    }
   ],
   "source": [
    "df.printSchema()"
   ]
  },
  {
   "cell_type": "code",
   "execution_count": 58,
   "metadata": {},
   "outputs": [],
   "source": [
    "df_testing = spark.read.parquet(\"s3n://covid-delta-lake/test/tests/*.parquet\")"
   ]
  },
  {
   "cell_type": "code",
   "execution_count": 59,
   "metadata": {},
   "outputs": [
    {
     "name": "stdout",
     "output_type": "stream",
     "text": [
      "root\n",
      " |-- date: long (nullable = true)\n",
      " |-- state: string (nullable = true)\n",
      " |-- positive: double (nullable = true)\n",
      " |-- negative: double (nullable = true)\n",
      " |-- death: double (nullable = true)\n",
      " |-- total: double (nullable = true)\n",
      " |-- hash: string (nullable = true)\n",
      " |-- dateChecked: string (nullable = true)\n",
      " |-- totalTestResults: double (nullable = true)\n",
      " |-- fips: long (nullable = true)\n",
      " |-- deathIncrease: long (nullable = true)\n",
      " |-- hospitalizedIncrease: long (nullable = true)\n",
      " |-- negativeIncrease: long (nullable = true)\n",
      " |-- positiveIncrease: long (nullable = true)\n",
      " |-- totalTestResultsIncrease: long (nullable = true)\n",
      " |-- hospitalized: double (nullable = true)\n",
      " |-- pending: double (nullable = true)\n",
      "\n"
     ]
    }
   ],
   "source": [
    "df_testing.printSchema()"
   ]
  },
  {
   "cell_type": "code",
   "execution_count": 60,
   "metadata": {},
   "outputs": [
    {
     "name": "stdout",
     "output_type": "stream",
     "text": [
      "+--------+-----+--------+---------+-------+----------------+\n",
      "|    date|state|positive| negative|  death|totalTestResults|\n",
      "+--------+-----+--------+---------+-------+----------------+\n",
      "|20200813|   NE| 29244.0| 280400.0|  356.0|        309644.0|\n",
      "|20200813|   NH|  6921.0| 174695.0|  422.0|        272051.0|\n",
      "|20200813|   NJ|186594.0|2217096.0|15841.0|       2403690.0|\n",
      "|20200813|   NM| 22816.0| 622007.0|  695.0|        644823.0|\n",
      "|20200813|   NV| 58650.0| 474494.0| 1030.0|        533144.0|\n",
      "|20200813|   NY|423440.0|6392941.0|25228.0|       6816381.0|\n",
      "|20200813|   OH|105426.0|1647881.0| 3755.0|       1753307.0|\n",
      "|20200813|   OK| 46103.0| 685169.0|  638.0|        731272.0|\n",
      "|20200813|   OR| 22300.0| 444963.0|  383.0|        467263.0|\n",
      "|20200813|   PA|122121.0|1288873.0| 7409.0|       1410994.0|\n",
      "|20200813|   PR| 24446.0| 305972.0|  306.0|        330418.0|\n",
      "|20200813|   RI| 20240.0| 208234.0| 1019.0|        416203.0|\n",
      "|20200813|   SC|103909.0| 702119.0| 2186.0|        806028.0|\n",
      "|20200813|   SD|  9897.0| 114873.0|  148.0|        124770.0|\n",
      "|20200813|   TN|128511.0|1659210.0| 1313.0|       1787721.0|\n",
      "|20200813|   TX|513575.0|3717188.0| 9289.0|       4230763.0|\n",
      "|20200813|   UT| 45424.0| 539232.0|  353.0|        584656.0|\n",
      "|20200813|   VA|103622.0|1202481.0| 2363.0|       1301909.0|\n",
      "|20200813|   VI|   682.0|  10968.0|    9.0|         11650.0|\n",
      "|20200813|   VT|  1484.0| 104423.0|   58.0|        105907.0|\n",
      "+--------+-----+--------+---------+-------+----------------+\n",
      "only showing top 20 rows\n",
      "\n"
     ]
    }
   ],
   "source": [
    "df_testing.select(\"date\",\"state\",\"positive\", \"negative\", \"death\",\"totalTestResults\").show()"
   ]
  },
  {
   "cell_type": "code",
   "execution_count": 64,
   "metadata": {},
   "outputs": [],
   "source": [
    "df_populations = spark.read.parquet(\"s3n://covid-delta-lake/delta/populations/parquets/*.parquet\")"
   ]
  },
  {
   "cell_type": "code",
   "execution_count": 65,
   "metadata": {},
   "outputs": [
    {
     "name": "stdout",
     "output_type": "stream",
     "text": [
      "+--------------+----+--------+-------+-----------------+\n",
      "|            Id| Id2|  County|  State|pop_estimate_2018|\n",
      "+--------------+----+--------+-------+-----------------+\n",
      "|0500000US01001|1001| Autauga|Alabama|            55601|\n",
      "|0500000US01003|1003| Baldwin|Alabama|           218022|\n",
      "|0500000US01005|1005| Barbour|Alabama|            24881|\n",
      "|0500000US01007|1007|    Bibb|Alabama|            22400|\n",
      "|0500000US01009|1009|  Blount|Alabama|            57840|\n",
      "|0500000US01011|1011| Bullock|Alabama|            10138|\n",
      "|0500000US01013|1013|  Butler|Alabama|            19680|\n",
      "|0500000US01015|1015| Calhoun|Alabama|           114277|\n",
      "|0500000US01017|1017|Chambers|Alabama|            33615|\n",
      "|0500000US01019|1019|Cherokee|Alabama|            26032|\n",
      "+--------------+----+--------+-------+-----------------+\n",
      "only showing top 10 rows\n",
      "\n"
     ]
    }
   ],
   "source": [
    "df_populations.show(10)"
   ]
  },
  {
   "cell_type": "code",
   "execution_count": 66,
   "metadata": {},
   "outputs": [
    {
     "name": "stdout",
     "output_type": "stream",
     "text": [
      "root\n",
      " |-- Id: string (nullable = true)\n",
      " |-- Id2: long (nullable = true)\n",
      " |-- County: string (nullable = true)\n",
      " |-- State: string (nullable = true)\n",
      " |-- pop_estimate_2018: long (nullable = true)\n",
      "\n"
     ]
    }
   ],
   "source": [
    "df_populations.printSchema()"
   ]
  },
  {
   "cell_type": "code",
   "execution_count": 23,
   "metadata": {},
   "outputs": [],
   "source": [
    "df_states= spark.read.option(\"header\", True).csv(\"s3n://covid-delta-lake/static/*.csv\")"
   ]
  },
  {
   "cell_type": "code",
   "execution_count": 24,
   "metadata": {},
   "outputs": [
    {
     "name": "stdout",
     "output_type": "stream",
     "text": [
      "root\n",
      " |-- State: string (nullable = true)\n",
      " |-- Abbrev: string (nullable = true)\n",
      " |-- Code: string (nullable = true)\n",
      "\n"
     ]
    }
   ],
   "source": [
    "df_states.printSchema()"
   ]
  },
  {
   "cell_type": "code",
   "execution_count": 45,
   "metadata": {},
   "outputs": [
    {
     "name": "stdout",
     "output_type": "stream",
     "text": [
      "+--------------------+------+----+\n",
      "|          state_full|Abbrev|Code|\n",
      "+--------------------+------+----+\n",
      "|             Alabama|  Ala.|  AL|\n",
      "|              Alaska|Alaska|  AK|\n",
      "|             Arizona| Ariz.|  AZ|\n",
      "|            Arkansas|  Ark.|  AR|\n",
      "|          California|Calif.|  CA|\n",
      "|            Colorado| Colo.|  CO|\n",
      "|         Connecticut| Conn.|  CT|\n",
      "|            Delaware|  Del.|  DE|\n",
      "|District of Columbia|  D.C.|  DC|\n",
      "|             Florida|  Fla.|  FL|\n",
      "+--------------------+------+----+\n",
      "only showing top 10 rows\n",
      "\n"
     ]
    }
   ],
   "source": [
    "df_states = df_states.withColumnRenamed(\"State\", \"state_full\")\n",
    "df_states.show(10)"
   ]
  },
  {
   "cell_type": "code",
   "execution_count": 51,
   "metadata": {},
   "outputs": [],
   "source": [
    "df = df.join(df_states.select(\"state_full\", \"Code\"), df_states[\"state_full\"] == df[\"state\"], \"inner\").select(\"date\", \"county\", \"state_full\", \"fips\", \"cases\", \"deaths\", \"code\")"
   ]
  },
  {
   "cell_type": "code",
   "execution_count": 52,
   "metadata": {},
   "outputs": [
    {
     "name": "stdout",
     "output_type": "stream",
     "text": [
      "+----------+------------------+----------+-------+-----+------+----+\n",
      "|      date|            county|state_full|   fips|cases|deaths|code|\n",
      "+----------+------------------+----------+-------+-----+------+----+\n",
      "|2020-08-28|     Isle of Wight|  Virginia|51093.0|  519|    11|  VA|\n",
      "|2020-08-28|        James City|  Virginia|51095.0|  726|    18|  VA|\n",
      "|2020-08-28|       King George|  Virginia|51099.0|  202|     4|  VA|\n",
      "|2020-08-28|      King William|  Virginia|51101.0|  111|     2|  VA|\n",
      "|2020-08-28|    King and Queen|  Virginia|51097.0|   49|     1|  VA|\n",
      "|2020-08-28|         Lancaster|  Virginia|51103.0|   66|     0|  VA|\n",
      "|2020-08-28|               Lee|  Virginia|51105.0|  183|     3|  VA|\n",
      "|2020-08-28|    Lexington city|  Virginia|51678.0|   42|     0|  VA|\n",
      "|2020-08-28|           Loudoun|  Virginia|51107.0| 5878|   118|  VA|\n",
      "|2020-08-28|            Louisa|  Virginia|51109.0|  243|     2|  VA|\n",
      "|2020-08-28|         Lunenburg|  Virginia|51111.0|   93|     2|  VA|\n",
      "|2020-08-28|    Lynchburg city|  Virginia|51680.0|  936|     5|  VA|\n",
      "|2020-08-28|           Madison|  Virginia|51113.0|   87|     2|  VA|\n",
      "|2020-08-28|Manassas Park city|  Virginia|51685.0|  558|     7|  VA|\n",
      "|2020-08-28|     Manassas city|  Virginia|51683.0| 1782|    23|  VA|\n",
      "|2020-08-28| Martinsville city|  Virginia|51690.0|  316|     6|  VA|\n",
      "|2020-08-28|           Mathews|  Virginia|51115.0|   23|     0|  VA|\n",
      "|2020-08-28|       Mecklenburg|  Virginia|51117.0|  501|    33|  VA|\n",
      "|2020-08-28|         Middlesex|  Virginia|51119.0|   55|     1|  VA|\n",
      "|2020-08-28|        Montgomery|  Virginia|51121.0|  427|     3|  VA|\n",
      "+----------+------------------+----------+-------+-----+------+----+\n",
      "only showing top 20 rows\n",
      "\n"
     ]
    }
   ],
   "source": [
    "df.show()"
   ]
  },
  {
   "cell_type": "code",
   "execution_count": 53,
   "metadata": {},
   "outputs": [
    {
     "name": "stdout",
     "output_type": "stream",
     "text": [
      "root\n",
      " |-- date: string (nullable = true)\n",
      " |-- county: string (nullable = true)\n",
      " |-- state_full: string (nullable = true)\n",
      " |-- fips: double (nullable = true)\n",
      " |-- cases: long (nullable = true)\n",
      " |-- deaths: long (nullable = true)\n",
      " |-- code: string (nullable = true)\n",
      "\n"
     ]
    }
   ],
   "source": [
    "df.printSchema()"
   ]
  },
  {
   "cell_type": "code",
   "execution_count": 29,
   "metadata": {},
   "outputs": [],
   "source": [
    "import configparser"
   ]
  },
  {
   "cell_type": "code",
   "execution_count": 33,
   "metadata": {},
   "outputs": [
    {
     "data": {
      "text/plain": [
       "['redshift.cfg']"
      ]
     },
     "execution_count": 33,
     "metadata": {},
     "output_type": "execute_result"
    }
   ],
   "source": [
    "config = configparser.ConfigParser()\n",
    "config.read('redshift.cfg')"
   ]
  },
  {
   "cell_type": "code",
   "execution_count": 35,
   "metadata": {},
   "outputs": [],
   "source": [
    "from sql_queries import population_table_create, copy_table_population\n",
    "import psycopg2"
   ]
  },
  {
   "cell_type": "code",
   "execution_count": 67,
   "metadata": {},
   "outputs": [],
   "source": [
    "conn = psycopg2.connect(\"host={} dbname={} user={} password={} port={}\".format(*config['CLUSTER'].values()))\n",
    "cur = conn.cursor()"
   ]
  },
  {
   "cell_type": "code",
   "execution_count": 68,
   "metadata": {},
   "outputs": [],
   "source": [
    "drop = (\"DROP TABLE IF EXISTS populations\")"
   ]
  },
  {
   "cell_type": "code",
   "execution_count": 69,
   "metadata": {},
   "outputs": [],
   "source": [
    "cur.execute(drop)\n",
    "conn.commit()"
   ]
  },
  {
   "cell_type": "code",
   "execution_count": 70,
   "metadata": {},
   "outputs": [],
   "source": [
    "pop_create_query= (\"\"\"CREATE TABLE IF NOT EXISTS populations( \n",
    "                                    Id varchar, \n",
    "                                    Id2 bigint, \n",
    "                                    County varchar, \n",
    "                                    state varchar, \n",
    "                                    pop_estimate_2018 bigint);\"\"\")"
   ]
  },
  {
   "cell_type": "code",
   "execution_count": 71,
   "metadata": {},
   "outputs": [],
   "source": [
    "cur.execute(pop_create_query)\n",
    "conn.commit()"
   ]
  },
  {
   "cell_type": "code",
   "execution_count": 77,
   "metadata": {},
   "outputs": [],
   "source": [
    "pop_copy_query = (\"\"\"\n",
    "    COPY populations \n",
    "    FROM 's3://covid-delta-lake/delta/populations/parquets'\n",
    "    IAM_ROLE '{}' \n",
    "    FORMAT AS PARQUET;\n",
    "    \"\"\").format(config.get(\"IAM_ROLE\", \"ARN\"))"
   ]
  },
  {
   "cell_type": "code",
   "execution_count": 73,
   "metadata": {},
   "outputs": [],
   "source": [
    "cur.execute(pop_copy_query)\n",
    "conn.commit()"
   ]
  },
  {
   "cell_type": "code",
   "execution_count": null,
   "metadata": {},
   "outputs": [],
   "source": []
  },
  {
   "cell_type": "code",
   "execution_count": 151,
   "metadata": {},
   "outputs": [],
   "source": [
    "conn = psycopg2.connect(\"host={} dbname={} user={} password={} port={}\".format(*config['CLUSTER'].values()))\n",
    "cur = conn.cursor()"
   ]
  },
  {
   "cell_type": "code",
   "execution_count": 141,
   "metadata": {},
   "outputs": [],
   "source": [
    "from sql_queries import covid_table_create, copy_table_cases"
   ]
  },
  {
   "cell_type": "code",
   "execution_count": 142,
   "metadata": {},
   "outputs": [],
   "source": [
    "drop_cases = (\"DROP TABLE IF EXISTS covid_cases\")"
   ]
  },
  {
   "cell_type": "code",
   "execution_count": 143,
   "metadata": {},
   "outputs": [],
   "source": [
    "cur.execute(drop_cases)\n",
    "conn.commit()"
   ]
  },
  {
   "cell_type": "code",
   "execution_count": 144,
   "metadata": {},
   "outputs": [],
   "source": [
    "cur.execute(\"\"\"CREATE TABLE IF NOT EXISTS covid_cases(\n",
    "                            date VARCHAR,\n",
    "                            county VARCHAR,\n",
    "                            state_full VARCHAR,\n",
    "                            fips DOUBLE PRECISION,\n",
    "                            cases BIGINT,\n",
    "                            deaths BIGINT,\n",
    "                            code VARCHAR                           \n",
    "                                );\"\"\")\n",
    "conn.commit()"
   ]
  },
  {
   "cell_type": "code",
   "execution_count": 145,
   "metadata": {},
   "outputs": [],
   "source": [
    "copy_table_cases2 = (\"\"\"\n",
    "    COPY covid_cases\n",
    "    FROM 's3://covid-delta-lake/delta/cases/parquets'\n",
    "    IAM_ROLE '{}'\n",
    "    FORMAT AS PARQUET;\n",
    "    \"\"\").format(config.get(\"IAM_ROLE\", \"ARN\"))"
   ]
  },
  {
   "cell_type": "code",
   "execution_count": 146,
   "metadata": {},
   "outputs": [],
   "source": [
    "cur.execute(copy_table_cases2)\n",
    "conn.commit()"
   ]
  },
  {
   "cell_type": "code",
   "execution_count": 147,
   "metadata": {},
   "outputs": [],
   "source": [
    "tests_table_create= (\"\"\"CREATE TABLE IF NOT EXISTS covid_tests(\n",
    "                            date BIGINT,\n",
    "                            state_full VARCHAR,\n",
    "                            positive DOUBLE PRECISION,\n",
    "                            negative DOUBLE PRECISION,\n",
    "                            death DOUBLE PRECISION,\n",
    "                            total DOUBLE PRECISION,\n",
    "                            hash VARCHAR,\n",
    "                            dateChecked VARCHAR,\n",
    "                            totalTestResults DOUBLE PRECISION,\n",
    "                            fips BIGINT,\n",
    "                            deathIncrease BIGINT,\n",
    "                            hospitalizedIncrease BIGINT,\n",
    "                            negativeIncrease BIGINT,\n",
    "                            positiveIncrease BIGINT,\n",
    "                            totalTestResultsIncrease BIGINT,\n",
    "                            hospitalized DOUBLE PRECISION,\n",
    "                            pending DOUBLE PRECISION                           \n",
    "                                );\"\"\")"
   ]
  },
  {
   "cell_type": "code",
   "execution_count": 148,
   "metadata": {},
   "outputs": [],
   "source": [
    "cur.execute(tests_table_create)\n",
    "conn.commit()"
   ]
  },
  {
   "cell_type": "code",
   "execution_count": 152,
   "metadata": {},
   "outputs": [],
   "source": [
    "copy_table_tests = (\"\"\"\n",
    "    COPY covid_tests \n",
    "    FROM 's3://covid-delta-lake/delta/tests/parquets'\n",
    "    IAM_ROLE '{}'\n",
    "    FORMAT AS PARQUET;\n",
    "    \"\"\").format(config.get(\"IAM_ROLE\", \"ARN\"))"
   ]
  },
  {
   "cell_type": "code",
   "execution_count": 153,
   "metadata": {},
   "outputs": [],
   "source": [
    "cur.execute(copy_table_tests)\n",
    "conn.commit()"
   ]
  },
  {
   "cell_type": "code",
   "execution_count": null,
   "metadata": {
    "collapsed": true
   },
   "outputs": [],
   "source": [
    "😂😂"
   ]
  },
  {
   "cell_type": "code",
   "execution_count": 154,
   "metadata": {},
   "outputs": [],
   "source": [
    "time_table_create = (\"\"\"CREATE TABLE IF NOT EXISTS time(\n",
    "                        date VARCHAR,\n",
    "                        date_ts DATE,\n",
    "                        day INT, \n",
    "                        week INT, \n",
    "                        month INT,\n",
    "                        year INT,\n",
    "                        weekday INT);\n",
    "                    \"\"\")"
   ]
  },
  {
   "cell_type": "code",
   "execution_count": 168,
   "metadata": {},
   "outputs": [],
   "source": [
    "time_table_insert = (\"\"\"\n",
    "INSERT INTO time (\n",
    "                date,\n",
    "                date_ts, \n",
    "                day, \n",
    "                week, \n",
    "                month,\n",
    "                year,\n",
    "                weekday)\n",
    "SELECT  date as date,\n",
    "        TO_DATE(date, 'YYYY-MM-DD') as date_ts,\n",
    "        EXTRACT(day FROM date_ts) as day,\n",
    "        EXTRACT(week FROM date_ts) as week,\n",
    "        EXTRACT(month FROM date_ts) as month,\n",
    "        EXTRACT(year FROM date_ts) as year,\n",
    "        EXTRACT(weekday FROM date_ts) as weekday\n",
    "FROM(\n",
    "  SELECT DISTINCT date\n",
    "  FROM covid_cases\n",
    "  WHERE date IS NOT null)\n",
    "\"\"\")"
   ]
  },
  {
   "cell_type": "code",
   "execution_count": 169,
   "metadata": {},
   "outputs": [],
   "source": [
    "conn = psycopg2.connect(\"host={} dbname={} user={} password={} port={}\".format(*config['CLUSTER'].values()))\n",
    "cur = conn.cursor()"
   ]
  },
  {
   "cell_type": "code",
   "execution_count": 165,
   "metadata": {},
   "outputs": [],
   "source": [
    "cur.execute(\"DROP TABLE IF EXISTS time\")\n",
    "conn.commit()"
   ]
  },
  {
   "cell_type": "code",
   "execution_count": 166,
   "metadata": {},
   "outputs": [],
   "source": [
    "cur.execute(time_table_create)\n",
    "conn.commit()"
   ]
  },
  {
   "cell_type": "code",
   "execution_count": 170,
   "metadata": {},
   "outputs": [],
   "source": [
    "cur.execute(time_table_insert)\n",
    "conn.commit()"
   ]
  },
  {
   "cell_type": "code",
   "execution_count": 172,
   "metadata": {},
   "outputs": [
    {
     "data": {
      "text/plain": [
       "['redshift.cfg']"
      ]
     },
     "execution_count": 172,
     "metadata": {},
     "output_type": "execute_result"
    }
   ],
   "source": [
    "config = configparser.ConfigParser()\n",
    "config.read('redshift.cfg')"
   ]
  },
  {
   "cell_type": "code",
   "execution_count": 176,
   "metadata": {},
   "outputs": [],
   "source": [
    "cur.execute(\"select count(*)from covid_tests\")\n",
    "result = cur.fetchall()"
   ]
  },
  {
   "cell_type": "code",
   "execution_count": 180,
   "metadata": {},
   "outputs": [
    {
     "data": {
      "text/plain": [
       "33614"
      ]
     },
     "execution_count": 180,
     "metadata": {},
     "output_type": "execute_result"
    }
   ],
   "source": [
    "result[0][0]"
   ]
  },
  {
   "cell_type": "code",
   "execution_count": 181,
   "metadata": {},
   "outputs": [
    {
     "name": "stdout",
     "output_type": "stream",
     "text": [
      "Data quality inspection passed\n"
     ]
    },
    {
     "ename": "ValueError",
     "evalue": "QA failed for covid_cases: Table contained 0 rows",
     "output_type": "error",
     "traceback": [
      "\u001b[1;31m---------------------------------------------------------------------------\u001b[0m",
      "\u001b[1;31mValueError\u001b[0m                                Traceback (most recent call last)",
      "\u001b[1;32m<ipython-input-181-b25f26b2d8a8>\u001b[0m in \u001b[0;36m<module>\u001b[1;34m\u001b[0m\n\u001b[0;32m      5\u001b[0m         \u001b[0mprint\u001b[0m\u001b[1;33m(\u001b[0m\u001b[1;34m\"Data quality inspection passed\"\u001b[0m\u001b[1;33m)\u001b[0m\u001b[1;33m\u001b[0m\u001b[1;33m\u001b[0m\u001b[0m\n\u001b[0;32m      6\u001b[0m     \u001b[1;32melse\u001b[0m\u001b[1;33m:\u001b[0m\u001b[1;33m\u001b[0m\u001b[1;33m\u001b[0m\u001b[0m\n\u001b[1;32m----> 7\u001b[1;33m         \u001b[1;32mraise\u001b[0m \u001b[0mValueError\u001b[0m\u001b[1;33m(\u001b[0m\u001b[1;34mf\"QA failed for {table}: Table contained 0 rows\"\u001b[0m\u001b[1;33m)\u001b[0m\u001b[1;33m\u001b[0m\u001b[1;33m\u001b[0m\u001b[0m\n\u001b[0m",
      "\u001b[1;31mValueError\u001b[0m: QA failed for covid_cases: Table contained 0 rows"
     ]
    }
   ],
   "source": [
    "for table in [\"covid_tests\", \"covid_cases\", \"populations\", \"time\"]:\n",
    "    cur.execute(f\"select count(*) from {table}\")\n",
    "    result = cur.fetchall()\n",
    "    if result[0][0] > 1:\n",
    "        print(\"Data quality inspection passed\")\n",
    "    else:\n",
    "        raise ValueError(f\"QA failed for {table}: Table contained 0 rows\")"
   ]
  },
  {
   "cell_type": "code",
   "execution_count": null,
   "metadata": {},
   "outputs": [],
   "source": []
  }
 ],
 "metadata": {
  "kernelspec": {
   "display_name": "Python 3",
   "language": "python",
   "name": "python3"
  },
  "language_info": {
   "codemirror_mode": {
    "name": "ipython",
    "version": 3
   },
   "file_extension": ".py",
   "mimetype": "text/x-python",
   "name": "python",
   "nbconvert_exporter": "python",
   "pygments_lexer": "ipython3",
   "version": "3.7.4"
  }
 },
 "nbformat": 4,
 "nbformat_minor": 2
}
