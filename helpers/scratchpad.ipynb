{
 "cells": [
  {
   "cell_type": "code",
   "execution_count": null,
   "metadata": {},
   "outputs": [],
   "source": [
    "import pyspark\n",
    "from pyspark.sql import SparkSession\n",
    "import pandas as pd\n",
    "import os\n",
    "import psycopg2"
   ]
  },
  {
   "cell_type": "code",
   "execution_count": null,
   "metadata": {},
   "outputs": [],
   "source": [
    "spark = pyspark.sql.SparkSession.builder.appName(\"DeltaTest\") \\\n",
    "    .config(\"spark.jars.packages\", \"io.delta:delta-core_2.12:0.7.0\") \\\n",
    "    .config(\"spark.sql.extensions\", \"io.delta.sql.DeltaSparkSessionExtension\") \\\n",
    "    .config(\"spark.sql.catalog.spark_catalog\", \"org.apache.spark.sql.delta.catalog.DeltaCatalog\") \\\n",
    "    .getOrCreate()\n"
   ]
  },
  {
   "cell_type": "code",
   "execution_count": null,
   "metadata": {},
   "outputs": [],
   "source": [
    "aws_access_key = os.getenv(\"AWS_ACCESS_KEY\")\n",
    "aws_secret = os.getenv(\"AWS_SECRET_ACCESS_KEY_ID\")\n",
    "\n",
    "spark.sparkContext._jsc.hadoopConfiguration().set(\"fs.s3n.awsAccessKeyId\", aws_access_key)\n",
    "spark.sparkContext._jsc.hadoopConfiguration().set(\"fs.s3n.awsSecretAccessKey\", aws_secret)\n",
    "spark.sparkContext._jsc.hadoopConfiguration().set(\"fs.s3n.endpoint\", \"s3.amazonaws.com\")"
   ]
  },
  {
   "cell_type": "code",
   "execution_count": null,
   "metadata": {},
   "outputs": [],
   "source": [
    "df = spark.read.parquet(\"s3n://covid-delta-lake/test/cases/*.parquet\")"
   ]
  },
  {
   "cell_type": "code",
   "execution_count": null,
   "metadata": {},
   "outputs": [],
   "source": [
    "df.show(10)"
   ]
  },
  {
   "cell_type": "code",
   "execution_count": null,
   "metadata": {},
   "outputs": [],
   "source": [
    "df.printSchema()"
   ]
  },
  {
   "cell_type": "code",
   "execution_count": null,
   "metadata": {},
   "outputs": [],
   "source": [
    "df_testing = spark.read.parquet(\"s3n://covid-delta-lake/delta/tests/*.parquet\")"
   ]
  },
  {
   "cell_type": "code",
   "execution_count": null,
   "metadata": {},
   "outputs": [],
   "source": [
    "df_testing.printSchema()"
   ]
  },
  {
   "cell_type": "code",
   "execution_count": null,
   "metadata": {},
   "outputs": [],
   "source": [
    "df_testing.select(\"date\",\"state\",\"positive\", \"negative\", \"death\",\"totalTestResults\").show()"
   ]
  },
  {
   "cell_type": "code",
   "execution_count": null,
   "metadata": {},
   "outputs": [],
   "source": [
    "df_populations = spark.read.parquet(\"s3n://covid-delta-lake/delta/populations/*.parquet\")"
   ]
  },
  {
   "cell_type": "code",
   "execution_count": null,
   "metadata": {},
   "outputs": [],
   "source": [
    "df_populations.show(10)"
   ]
  },
  {
   "cell_type": "code",
   "execution_count": null,
   "metadata": {},
   "outputs": [],
   "source": [
    "df_populations.printSchema()"
   ]
  },
  {
   "cell_type": "code",
   "execution_count": null,
   "metadata": {},
   "outputs": [],
   "source": [
    "df_states= spark.read.option(\"header\", True).csv(\"s3n://covid-delta-lake/static/*.csv\")"
   ]
  },
  {
   "cell_type": "code",
   "execution_count": null,
   "metadata": {},
   "outputs": [],
   "source": [
    "df_states.printSchema()"
   ]
  },
  {
   "cell_type": "code",
   "execution_count": null,
   "metadata": {},
   "outputs": [],
   "source": [
    "df_states = df_states.withColumnRenamed(\"State\", \"state_full\")\n",
    "df_states.show(10)"
   ]
  },
  {
   "cell_type": "code",
   "execution_count": null,
   "metadata": {},
   "outputs": [],
   "source": [
    "df = df.join(df_states.select(\"state_full\", \"Code\"), df_states[\"state_full\"] == df[\"state\"], \"inner\").select(\"date\", \"county\", \"state_full\", \"fips\", \"cases\", \"deaths\", \"code\")"
   ]
  },
  {
   "cell_type": "code",
   "execution_count": null,
   "metadata": {},
   "outputs": [],
   "source": [
    "df.show()"
   ]
  },
  {
   "cell_type": "code",
   "execution_count": null,
   "metadata": {},
   "outputs": [],
   "source": [
    "df.printSchema()"
   ]
  },
  {
   "cell_type": "code",
   "execution_count": null,
   "metadata": {},
   "outputs": [],
   "source": [
    "import configparser"
   ]
  },
  {
   "cell_type": "code",
   "execution_count": null,
   "metadata": {},
   "outputs": [],
   "source": [
    "config = configparser.ConfigParser()\n",
    "config.read('redshift.cfg')"
   ]
  },
  {
   "cell_type": "code",
   "execution_count": null,
   "metadata": {},
   "outputs": [],
   "source": [
    "from sql_queries import population_table_create, copy_table_population\n",
    "import psycopg2"
   ]
  },
  {
   "cell_type": "code",
   "execution_count": null,
   "metadata": {},
   "outputs": [],
   "source": [
    "conn = psycopg2.connect(\"host={} dbname={} user={} password={} port={}\".format(*config['CLUSTER'].values()))\n",
    "cur = conn.cursor()"
   ]
  },
  {
   "cell_type": "code",
   "execution_count": null,
   "metadata": {},
   "outputs": [],
   "source": [
    "drop = (\"DROP TABLE IF EXISTS populations\")"
   ]
  },
  {
   "cell_type": "code",
   "execution_count": null,
   "metadata": {},
   "outputs": [],
   "source": [
    "cur.execute(drop)\n",
    "conn.commit()"
   ]
  },
  {
   "cell_type": "code",
   "execution_count": null,
   "metadata": {},
   "outputs": [],
   "source": [
    "pop_create_query= (\"\"\"CREATE TABLE IF NOT EXISTS populations( \n",
    "                                    Id varchar, \n",
    "                                    Id2 bigint, \n",
    "                                    County varchar, \n",
    "                                    state varchar, \n",
    "                                    pop_estimate_2018 bigint);\"\"\")"
   ]
  },
  {
   "cell_type": "code",
   "execution_count": null,
   "metadata": {},
   "outputs": [],
   "source": [
    "cur.execute(pop_create_query)\n",
    "conn.commit()"
   ]
  },
  {
   "cell_type": "code",
   "execution_count": null,
   "metadata": {},
   "outputs": [],
   "source": [
    "pop_copy_query = (\"\"\"\n",
    "    COPY populations \n",
    "    FROM 's3://covid-delta-lake/delta/populations/parquets'\n",
    "    IAM_ROLE '{}' \n",
    "    FORMAT AS PARQUET;\n",
    "    \"\"\").format(config.get(\"IAM_ROLE\", \"ARN\"))"
   ]
  },
  {
   "cell_type": "code",
   "execution_count": null,
   "metadata": {},
   "outputs": [],
   "source": [
    "cur.execute(pop_copy_query)\n",
    "conn.commit()"
   ]
  },
  {
   "cell_type": "code",
   "execution_count": null,
   "metadata": {},
   "outputs": [],
   "source": []
  },
  {
   "cell_type": "code",
   "execution_count": null,
   "metadata": {},
   "outputs": [],
   "source": [
    "conn = psycopg2.connect(\"host={} dbname={} user={} password={} port={}\".format(*config['CLUSTER'].values()))\n",
    "cur = conn.cursor()"
   ]
  },
  {
   "cell_type": "code",
   "execution_count": null,
   "metadata": {},
   "outputs": [],
   "source": [
    "from sql_queries import covid_table_create, copy_table_cases"
   ]
  },
  {
   "cell_type": "code",
   "execution_count": null,
   "metadata": {},
   "outputs": [],
   "source": [
    "drop_cases = (\"DROP TABLE IF EXISTS covid_cases\")"
   ]
  },
  {
   "cell_type": "code",
   "execution_count": null,
   "metadata": {},
   "outputs": [],
   "source": [
    "cur.execute(drop_cases)\n",
    "conn.commit()"
   ]
  },
  {
   "cell_type": "code",
   "execution_count": null,
   "metadata": {},
   "outputs": [],
   "source": [
    "cur.execute(\"\"\"CREATE TABLE IF NOT EXISTS covid_cases(\n",
    "                            date VARCHAR,\n",
    "                            county VARCHAR,\n",
    "                            state_full VARCHAR,\n",
    "                            fips DOUBLE PRECISION,\n",
    "                            cases BIGINT,\n",
    "                            deaths BIGINT,\n",
    "                            code VARCHAR                           \n",
    "                                );\"\"\")\n",
    "conn.commit()"
   ]
  },
  {
   "cell_type": "code",
   "execution_count": null,
   "metadata": {},
   "outputs": [],
   "source": [
    "copy_table_cases2 = (\"\"\"\n",
    "    COPY covid_cases\n",
    "    FROM 's3://covid-delta-lake/delta/cases/parquets'\n",
    "    IAM_ROLE '{}'\n",
    "    FORMAT AS PARQUET;\n",
    "    \"\"\").format(config.get(\"IAM_ROLE\", \"ARN\"))"
   ]
  },
  {
   "cell_type": "code",
   "execution_count": null,
   "metadata": {},
   "outputs": [],
   "source": [
    "cur.execute(copy_table_cases2)\n",
    "conn.commit()"
   ]
  },
  {
   "cell_type": "code",
   "execution_count": null,
   "metadata": {},
   "outputs": [],
   "source": [
    "tests_table_create= (\"\"\"CREATE TABLE IF NOT EXISTS covid_tests(\n",
    "                            date BIGINT,\n",
    "                            state_full VARCHAR,\n",
    "                            positive DOUBLE PRECISION,\n",
    "                            negative DOUBLE PRECISION,\n",
    "                            death DOUBLE PRECISION,\n",
    "                            total DOUBLE PRECISION,\n",
    "                            hash VARCHAR,\n",
    "                            dateChecked VARCHAR,\n",
    "                            totalTestResults DOUBLE PRECISION,\n",
    "                            fips BIGINT,\n",
    "                            deathIncrease BIGINT,\n",
    "                            hospitalizedIncrease BIGINT,\n",
    "                            negativeIncrease BIGINT,\n",
    "                            positiveIncrease BIGINT,\n",
    "                            totalTestResultsIncrease BIGINT,\n",
    "                            hospitalized DOUBLE PRECISION,\n",
    "                            pending DOUBLE PRECISION                           \n",
    "                                );\"\"\")"
   ]
  },
  {
   "cell_type": "code",
   "execution_count": null,
   "metadata": {},
   "outputs": [],
   "source": [
    "cur.execute(tests_table_create)\n",
    "conn.commit()"
   ]
  },
  {
   "cell_type": "code",
   "execution_count": null,
   "metadata": {},
   "outputs": [],
   "source": [
    "copy_table_tests = (\"\"\"\n",
    "    COPY covid_tests \n",
    "    FROM 's3://covid-delta-lake/delta/tests/parquets'\n",
    "    IAM_ROLE '{}'\n",
    "    FORMAT AS PARQUET;\n",
    "    \"\"\").format(config.get(\"IAM_ROLE\", \"ARN\"))"
   ]
  },
  {
   "cell_type": "code",
   "execution_count": null,
   "metadata": {},
   "outputs": [],
   "source": [
    "cur.execute(copy_table_tests)\n",
    "conn.commit()"
   ]
  },
  {
   "cell_type": "code",
   "execution_count": null,
   "metadata": {},
   "outputs": [],
   "source": [
    "😂😂"
   ]
  },
  {
   "cell_type": "code",
   "execution_count": null,
   "metadata": {},
   "outputs": [],
   "source": [
    "time_table_create = (\"\"\"CREATE TABLE IF NOT EXISTS time(\n",
    "                        date VARCHAR,\n",
    "                        date_ts DATE,\n",
    "                        day INT, \n",
    "                        week INT, \n",
    "                        month INT,\n",
    "                        year INT,\n",
    "                        weekday INT);\n",
    "                    \"\"\")"
   ]
  },
  {
   "cell_type": "code",
   "execution_count": null,
   "metadata": {},
   "outputs": [],
   "source": [
    "time_table_insert = (\"\"\"\n",
    "INSERT INTO time (\n",
    "                date,\n",
    "                date_ts, \n",
    "                day, \n",
    "                week, \n",
    "                month,\n",
    "                year,\n",
    "                weekday)\n",
    "SELECT  date as date,\n",
    "        TO_DATE(date, 'YYYY-MM-DD') as date_ts,\n",
    "        EXTRACT(day FROM date_ts) as day,\n",
    "        EXTRACT(week FROM date_ts) as week,\n",
    "        EXTRACT(month FROM date_ts) as month,\n",
    "        EXTRACT(year FROM date_ts) as year,\n",
    "        EXTRACT(weekday FROM date_ts) as weekday\n",
    "FROM(\n",
    "  SELECT DISTINCT date\n",
    "  FROM covid_cases\n",
    "  WHERE date IS NOT null)\n",
    "\"\"\")"
   ]
  },
  {
   "cell_type": "code",
   "execution_count": null,
   "metadata": {},
   "outputs": [],
   "source": [
    "conn = psycopg2.connect(\"host={} dbname={} user={} password={} port={}\".format(*config['CLUSTER'].values()))\n",
    "cur = conn.cursor()"
   ]
  },
  {
   "cell_type": "code",
   "execution_count": null,
   "metadata": {},
   "outputs": [],
   "source": [
    "cur.execute(\"DROP TABLE IF EXISTS time\")\n",
    "conn.commit()"
   ]
  },
  {
   "cell_type": "code",
   "execution_count": null,
   "metadata": {},
   "outputs": [],
   "source": [
    "cur.execute(time_table_create)\n",
    "conn.commit()"
   ]
  },
  {
   "cell_type": "code",
   "execution_count": null,
   "metadata": {},
   "outputs": [],
   "source": [
    "cur.execute(time_table_insert)\n",
    "conn.commit()"
   ]
  },
  {
   "cell_type": "code",
   "execution_count": null,
   "metadata": {},
   "outputs": [],
   "source": [
    "config = configparser.ConfigParser()\n",
    "config.read('redshift.cfg')"
   ]
  },
  {
   "cell_type": "code",
   "execution_count": null,
   "metadata": {},
   "outputs": [],
   "source": [
    "cur.execute(\"select count(*)from covid_tests\")\n",
    "result = cur.fetchall()"
   ]
  },
  {
   "cell_type": "code",
   "execution_count": null,
   "metadata": {},
   "outputs": [],
   "source": [
    "result[0][0]"
   ]
  },
  {
   "cell_type": "code",
   "execution_count": null,
   "metadata": {},
   "outputs": [],
   "source": [
    "for table in [\"covid_tests\", \"covid_cases\", \"populations\", \"time\"]:\n",
    "    cur.execute(f\"select count(*) from {table}\")\n",
    "    result = cur.fetchall()\n",
    "    if result[0][0] > 1:\n",
    "        print(\"Data quality inspection passed\")\n",
    "    else:\n",
    "        raise ValueError(f\"QA failed for {table}: Table contained 0 rows\")"
   ]
  },
  {
   "cell_type": "code",
   "execution_count": null,
   "metadata": {},
   "outputs": [],
   "source": []
  },
  {
   "cell_type": "code",
   "execution_count": null,
   "metadata": {},
   "outputs": [],
   "source": [
    "conn = psycopg2.connect(\"host={} dbname={} user={} password={} port={}\".format(host, db_name, user, pw, port))\n",
    "cur = conn.cursor()\n",
    "print(\"connected\")"
   ]
  },
  {
   "cell_type": "code",
   "execution_count": null,
   "metadata": {},
   "outputs": [],
   "source": [
    "cur.execute(f\"select MAX(year), MIN(year) from time\")\n",
    "result = cur.fetchall()"
   ]
  },
  {
   "cell_type": "code",
   "execution_count": null,
   "metadata": {},
   "outputs": [],
   "source": [
    "result"
   ]
  },
  {
   "cell_type": "code",
   "execution_count": null,
   "metadata": {},
   "outputs": [],
   "source": [
    "type(result[0][0])"
   ]
  },
  {
   "cell_type": "code",
   "execution_count": null,
   "metadata": {},
   "outputs": [],
   "source": [
    "result[0][1]"
   ]
  },
  {
   "cell_type": "code",
   "execution_count": null,
   "metadata": {},
   "outputs": [],
   "source": [
    "cur.execute(f\"select MAX(year), MIN(year) from time\")\n",
    "\n",
    "result = cur.fetchall()\n",
    "max_year = result[0][0]\n",
    "min_year = result[0][1]\n",
    "\n",
    "if max_year <= 2022:\n",
    "    if min_year >= 2019:\n",
    "        print(f\"Data quality inspection passed for time table\")\n",
    "    else:\n",
    "        raise ValueError(f\"QA failed for time check. The minimum year value returned was {min_year}, which is outside the time range\")\n",
    "else:\n",
    "    raise ValueError(f\"QA failed for time check. The maximum year value returned was {max_year}, which is outside the time range\")"
   ]
  },
  {
   "cell_type": "code",
   "execution_count": null,
   "metadata": {},
   "outputs": [],
   "source": [
    "max_year"
   ]
  },
  {
   "cell_type": "code",
   "execution_count": null,
   "metadata": {},
   "outputs": [],
   "source": [
    "min_year"
   ]
  },
  {
   "cell_type": "code",
   "execution_count": null,
   "metadata": {},
   "outputs": [],
   "source": [
    "conn.close()"
   ]
  },
  {
   "cell_type": "code",
   "execution_count": null,
   "metadata": {},
   "outputs": [],
   "source": [
    "tables = [\"covid_tests\", \"covid_cases\", \"populations\", \"time\"]\n",
    "for table in tables:\n",
    "\n",
    "    cur.execute(f\"select count(*) from {table}\")\n",
    "    result = cur.fetchall()\n",
    "    if result[0][0] > 1:\n",
    "        print(f\"Data quality inspection passed for {table}\")\n",
    "    else:\n",
    "        raise ValueError(f\"QA failed for {table}: Table contained 0 rows. Please clear all Redshit tables and re-run script\")"
   ]
  },
  {
   "cell_type": "code",
   "execution_count": null,
   "metadata": {},
   "outputs": [],
   "source": []
  }
 ],
 "metadata": {
  "kernelspec": {
   "display_name": "Python 3",
   "language": "python",
   "name": "python3"
  },
  "language_info": {
   "codemirror_mode": {
    "name": "ipython",
    "version": 3
   },
   "file_extension": ".py",
   "mimetype": "text/x-python",
   "name": "python",
   "nbconvert_exporter": "python",
   "pygments_lexer": "ipython3",
   "version": "3.7.4"
  }
 },
 "nbformat": 4,
 "nbformat_minor": 2
}
