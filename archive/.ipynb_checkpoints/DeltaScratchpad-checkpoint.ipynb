{
 "cells": [
  {
   "cell_type": "code",
   "execution_count": 33,
   "metadata": {},
   "outputs": [],
   "source": [
    "import pyspark\n",
    "from pyspark.sql import SparkSession\n",
    "import pandas as pd"
   ]
  },
  {
   "cell_type": "code",
   "execution_count": 34,
   "metadata": {},
   "outputs": [],
   "source": [
    "spark = pyspark.sql.SparkSession.builder.appName(\"DeltaTest\") \\\n",
    "    .config(\"spark.jars.packages\", \"io.delta:delta-core_2.12:0.7.0\") \\\n",
    "    .config(\"spark.sql.extensions\", \"io.delta.sql.DeltaSparkSessionExtension\") \\\n",
    "    .config(\"spark.sql.catalog.spark_catalog\", \"org.apache.spark.sql.delta.catalog.DeltaCatalog\") \\\n",
    "    .getOrCreate()\n",
    "\n",
    "from delta.tables import *"
   ]
  },
  {
   "cell_type": "code",
   "execution_count": 6,
   "metadata": {
    "scrolled": true
   },
   "outputs": [],
   "source": [
    "##Batch\n",
    "data = spark.range(0, 5)\n",
    "data.write.format(\"delta\").save(r\"C:\\Users\\kndoa\\OneDrive\\Desktop\\Data_Science\\CovidDeltaLake\\test\")"
   ]
  },
  {
   "cell_type": "code",
   "execution_count": 7,
   "metadata": {},
   "outputs": [
    {
     "name": "stdout",
     "output_type": "stream",
     "text": [
      "+---+\n",
      "| id|\n",
      "+---+\n",
      "|  0|\n",
      "|  3|\n",
      "|  1|\n",
      "|  2|\n",
      "|  4|\n",
      "+---+\n",
      "\n"
     ]
    }
   ],
   "source": [
    "df = spark.read.format(\"delta\").load(r\"C:\\Users\\kndoa\\OneDrive\\Desktop\\Data_Science\\CovidDeltaLake\\test\")\n",
    "df.show()"
   ]
  },
  {
   "cell_type": "code",
   "execution_count": 8,
   "metadata": {},
   "outputs": [],
   "source": [
    "##Stream\n",
    "streamingDf = spark.readStream.format(\"rate\").load()\n",
    "stream = streamingDf.selectExpr(\"value as id\").writeStream.format(\"delta\").option(\"checkpointLocation\", \"/tmp/checkpoint\").start(\"/tmp/delta-table\")"
   ]
  },
  {
   "cell_type": "code",
   "execution_count": 9,
   "metadata": {},
   "outputs": [],
   "source": [
    "stream2 = spark.readStream.format(\"delta\").load(\"/tmp/delta-table\").writeStream.format(\"console\").start()"
   ]
  },
  {
   "cell_type": "code",
   "execution_count": null,
   "metadata": {},
   "outputs": [],
   "source": []
  },
  {
   "cell_type": "code",
   "execution_count": 2,
   "metadata": {},
   "outputs": [],
   "source": [
    "import boto3"
   ]
  },
  {
   "cell_type": "code",
   "execution_count": 3,
   "metadata": {},
   "outputs": [],
   "source": [
    "s3 = boto3.resource('s3')"
   ]
  },
  {
   "cell_type": "code",
   "execution_count": 4,
   "metadata": {},
   "outputs": [
    {
     "name": "stdout",
     "output_type": "stream",
     "text": [
      "aws-emr-resources-192677340977-us-east-2\n",
      "aws-glue-scripts-192677340977-us-east-2\n",
      "aws-glue-temporary-192677340977-us-east-2\n",
      "aws-logs-192677340977-us-east-2\n",
      "aws-logs-192677340977-us-west-2\n",
      "covid-19-lake\n",
      "covid-delta-lake\n",
      "knd-udacity-data-lake-project\n",
      "nifi-bucket-doan\n",
      "pxml-objects\n",
      "testparquetdata\n"
     ]
    }
   ],
   "source": [
    "for bucket in s3.buckets.all():\n",
    "    print(bucket.name)"
   ]
  },
  {
   "cell_type": "code",
   "execution_count": 13,
   "metadata": {},
   "outputs": [],
   "source": [
    "bucketname = \"\"\n",
    "s3 = boto3.resource('s3')\n",
    "#obj = s3.Object(\"covid19-lake\", \"rearc-covid-19-testing-data/csv/states_daily/states_daily.csv\")\n",
    "obj = s3.Object(\"covid19-lake\", \"static-datasets/json/state-abv/part-00000-22cb15f0-19dd-49d4-981b-e628263fbb82-c000.json\")\n",
    "body = obj.get()['Body'].read()"
   ]
  },
  {
   "cell_type": "code",
   "execution_count": 15,
   "metadata": {},
   "outputs": [
    {
     "data": {
      "text/plain": [
       "bytes"
      ]
     },
     "execution_count": 15,
     "metadata": {},
     "output_type": "execute_result"
    }
   ],
   "source": [
    "type(body)"
   ]
  },
  {
   "cell_type": "code",
   "execution_count": 24,
   "metadata": {},
   "outputs": [],
   "source": [
    "states_json_string = bytes.decode(body)"
   ]
  },
  {
   "cell_type": "code",
   "execution_count": null,
   "metadata": {},
   "outputs": [],
   "source": []
  },
  {
   "cell_type": "code",
   "execution_count": 28,
   "metadata": {},
   "outputs": [],
   "source": [
    "df = pd.read_json(states_json_string, lines = True)"
   ]
  },
  {
   "cell_type": "code",
   "execution_count": 39,
   "metadata": {},
   "outputs": [
    {
     "ename": "IllegalArgumentException",
     "evalue": "java.net.URISyntaxException: Relative path in absolute URI: {\"State\":%22Alabama%22,%22Abbreviation%22:%22AL%22%7D%0A%7B%22State%22:%22Alaska%22,%22Abbreviation%22:%22AK%22%7D%0A%7B%22State%22:%22Arizona%22,%22Abbreviation%22:%22AZ%22%7D%0A%7B%22State%22:%22Arkansas%22,%22Abbreviation%22:%22AR%22%7D%0A%7B%22State%22:%22California%22,%22Abbreviation%22:%22CA%22%7D%0A%7B%22State%22:%22Colorado%22,%22Abbreviation%22:%22CO%22%7D%0A%7B%22State%22:%22Connecticut%22,%22Abbreviation%22:%22CT%22%7D%0A%7B%22State%22:%22Delaware%22,%22Abbreviation%22:%22DE%22%7D%0A%7B%22State%22:%22District%20of%20Columbia%22,%22Abbreviation%22:%22DC%22%7D%0A%7B%22State%22:%22Florida%22,%22Abbreviation%22:%22FL%22%7D%0A%7B%22State%22:%22Georgia%22,%22Abbreviation%22:%22GA%22%7D%0A%7B%22State%22:%22Hawaii%22,%22Abbreviation%22:%22HI%22%7D%0A%7B%22State%22:%22Idaho%22,%22Abbreviation%22:%22ID%22%7D%0A%7B%22State%22:%22Illinois%22,%22Abbreviation%22:%22IL%22%7D%0A%7B%22State%22:%22Indiana%22,%22Abbreviation%22:%22IN%22%7D%0A%7B%22State%22:%22Iowa%22,%22Abbreviation%22:%22IA%22%7D%0A%7B%22State%22:%22Kansas%22,%22Abbreviation%22:%22KS%22%7D%0A%7B%22State%22:%22Kentucky%22,%22Abbreviation%22:%22KY%22%7D%0A%7B%22State%22:%22Louisiana%22,%22Abbreviation%22:%22LA%22%7D%0A%7B%22State%22:%22Maine%22,%22Abbreviation%22:%22ME%22%7D%0A%7B%22State%22:%22Montana%22,%22Abbreviation%22:%22MT%22%7D%0A%7B%22State%22:%22Nebraska%22,%22Abbreviation%22:%22NE%22%7D%0A%7B%22State%22:%22Nevada%22,%22Abbreviation%22:%22NV%22%7D%0A%7B%22State%22:%22New%20Hampshire%22,%22Abbreviation%22:%22NH%22%7D%0A%7B%22State%22:%22New%20Jersey%22,%22Abbreviation%22:%22NJ%22%7D%0A%7B%22State%22:%22New%20Mexico%22,%22Abbreviation%22:%22NM%22%7D%0A%7B%22State%22:%22New%20York%22,%22Abbreviation%22:%22NY%22%7D%0A%7B%22State%22:%22North%20Carolina%22,%22Abbreviation%22:%22NC%22%7D%0A%7B%22State%22:%22North%20Dakota%22,%22Abbreviation%22:%22ND%22%7D%0A%7B%22State%22:%22Ohio%22,%22Abbreviation%22:%22OH%22%7D%0A%7B%22State%22:%22Oklahoma%22,%22Abbreviation%22:%22OK%22%7D%0A%7B%22State%22:%22Oregon%22,%22Abbreviation%22:%22OR%22%7D%0A%7B%22State%22:%22Maryland%22,%22Abbreviation%22:%22MD%22%7D%0A%7B%22State%22:%22Massachusetts%22,%22Abbreviation%22:%22MA%22%7D%0A%7B%22State%22:%22Michigan%22,%22Abbreviation%22:%22MI%22%7D%0A%7B%22State%22:%22Minnesota%22,%22Abbreviation%22:%22MN%22%7D%0A%7B%22State%22:%22Mississippi%22,%22Abbreviation%22:%22MS%22%7D%0A%7B%22State%22:%22Missouri%22,%22Abbreviation%22:%22MO%22%7D%0A%7B%22State%22:%22Pennsylvania%22,%22Abbreviation%22:%22PA%22%7D%0A%7B%22State%22:%22Rhode%20Island%22,%22Abbreviation%22:%22RI%22%7D%0A%7B%22State%22:%22South%20Carolina%22,%22Abbreviation%22:%22SC%22%7D%0A%7B%22State%22:%22South%20Dakota%22,%22Abbreviation%22:%22SD%22%7D%0A%7B%22State%22:%22Tennessee%22,%22Abbreviation%22:%22TN%22%7D%0A%7B%22State%22:%22Texas%22,%22Abbreviation%22:%22TX%22%7D%0A%7B%22State%22:%22Utah%22,%22Abbreviation%22:%22UT%22%7D%0A%7B%22State%22:%22Vermont%22,%22Abbreviation%22:%22VT%22%7D%0A%7B%22State%22:%22Virginia%22,%22Abbreviation%22:%22VA%22%7D%0A%7B%22State%22:%22Washington%22,%22Abbreviation%22:%22WA%22%7D%0A%7B%22State%22:%22West%20Virginia%22,%22Abbreviation%22:%22WV%22%7D%0A%7B%22State%22:%22Wisconsin%22,%22Abbreviation%22:%22WI%22%7D%0A%7B%22State%22:%22Wyoming%22,%22Abbreviation%22:%22WY%22%7D%0A",
     "output_type": "error",
     "traceback": [
      "\u001b[1;31m---------------------------------------------------------------------------\u001b[0m",
      "\u001b[1;31mIllegalArgumentException\u001b[0m                  Traceback (most recent call last)",
      "\u001b[1;32m<ipython-input-39-bd7ad4043905>\u001b[0m in \u001b[0;36m<module>\u001b[1;34m\u001b[0m\n\u001b[1;32m----> 1\u001b[1;33m \u001b[0mspark\u001b[0m\u001b[1;33m.\u001b[0m\u001b[0mread\u001b[0m\u001b[1;33m.\u001b[0m\u001b[0mjson\u001b[0m\u001b[1;33m(\u001b[0m\u001b[0mstates_json_string\u001b[0m\u001b[1;33m,\u001b[0m \u001b[0mmultiLine\u001b[0m\u001b[1;33m=\u001b[0m\u001b[1;32mTrue\u001b[0m\u001b[1;33m)\u001b[0m\u001b[1;33m\u001b[0m\u001b[1;33m\u001b[0m\u001b[0m\n\u001b[0m",
      "\u001b[1;32m~\\Anaconda3\\lib\\site-packages\\pyspark\\sql\\readwriter.py\u001b[0m in \u001b[0;36mjson\u001b[1;34m(self, path, schema, primitivesAsString, prefersDecimal, allowComments, allowUnquotedFieldNames, allowSingleQuotes, allowNumericLeadingZero, allowBackslashEscapingAnyCharacter, mode, columnNameOfCorruptRecord, dateFormat, timestampFormat, multiLine, allowUnquotedControlChars, lineSep, samplingRatio, dropFieldIfAllNull, encoding, locale, pathGlobFilter, recursiveFileLookup)\u001b[0m\n\u001b[0;32m    298\u001b[0m             \u001b[0mpath\u001b[0m \u001b[1;33m=\u001b[0m \u001b[1;33m[\u001b[0m\u001b[0mpath\u001b[0m\u001b[1;33m]\u001b[0m\u001b[1;33m\u001b[0m\u001b[1;33m\u001b[0m\u001b[0m\n\u001b[0;32m    299\u001b[0m         \u001b[1;32mif\u001b[0m \u001b[0mtype\u001b[0m\u001b[1;33m(\u001b[0m\u001b[0mpath\u001b[0m\u001b[1;33m)\u001b[0m \u001b[1;33m==\u001b[0m \u001b[0mlist\u001b[0m\u001b[1;33m:\u001b[0m\u001b[1;33m\u001b[0m\u001b[1;33m\u001b[0m\u001b[0m\n\u001b[1;32m--> 300\u001b[1;33m             \u001b[1;32mreturn\u001b[0m \u001b[0mself\u001b[0m\u001b[1;33m.\u001b[0m\u001b[0m_df\u001b[0m\u001b[1;33m(\u001b[0m\u001b[0mself\u001b[0m\u001b[1;33m.\u001b[0m\u001b[0m_jreader\u001b[0m\u001b[1;33m.\u001b[0m\u001b[0mjson\u001b[0m\u001b[1;33m(\u001b[0m\u001b[0mself\u001b[0m\u001b[1;33m.\u001b[0m\u001b[0m_spark\u001b[0m\u001b[1;33m.\u001b[0m\u001b[0m_sc\u001b[0m\u001b[1;33m.\u001b[0m\u001b[0m_jvm\u001b[0m\u001b[1;33m.\u001b[0m\u001b[0mPythonUtils\u001b[0m\u001b[1;33m.\u001b[0m\u001b[0mtoSeq\u001b[0m\u001b[1;33m(\u001b[0m\u001b[0mpath\u001b[0m\u001b[1;33m)\u001b[0m\u001b[1;33m)\u001b[0m\u001b[1;33m)\u001b[0m\u001b[1;33m\u001b[0m\u001b[1;33m\u001b[0m\u001b[0m\n\u001b[0m\u001b[0;32m    301\u001b[0m         \u001b[1;32melif\u001b[0m \u001b[0misinstance\u001b[0m\u001b[1;33m(\u001b[0m\u001b[0mpath\u001b[0m\u001b[1;33m,\u001b[0m \u001b[0mRDD\u001b[0m\u001b[1;33m)\u001b[0m\u001b[1;33m:\u001b[0m\u001b[1;33m\u001b[0m\u001b[1;33m\u001b[0m\u001b[0m\n\u001b[0;32m    302\u001b[0m             \u001b[1;32mdef\u001b[0m \u001b[0mfunc\u001b[0m\u001b[1;33m(\u001b[0m\u001b[0miterator\u001b[0m\u001b[1;33m)\u001b[0m\u001b[1;33m:\u001b[0m\u001b[1;33m\u001b[0m\u001b[1;33m\u001b[0m\u001b[0m\n",
      "\u001b[1;32m~\\Anaconda3\\lib\\site-packages\\py4j\\java_gateway.py\u001b[0m in \u001b[0;36m__call__\u001b[1;34m(self, *args)\u001b[0m\n\u001b[0;32m   1303\u001b[0m         \u001b[0manswer\u001b[0m \u001b[1;33m=\u001b[0m \u001b[0mself\u001b[0m\u001b[1;33m.\u001b[0m\u001b[0mgateway_client\u001b[0m\u001b[1;33m.\u001b[0m\u001b[0msend_command\u001b[0m\u001b[1;33m(\u001b[0m\u001b[0mcommand\u001b[0m\u001b[1;33m)\u001b[0m\u001b[1;33m\u001b[0m\u001b[1;33m\u001b[0m\u001b[0m\n\u001b[0;32m   1304\u001b[0m         return_value = get_return_value(\n\u001b[1;32m-> 1305\u001b[1;33m             answer, self.gateway_client, self.target_id, self.name)\n\u001b[0m\u001b[0;32m   1306\u001b[0m \u001b[1;33m\u001b[0m\u001b[0m\n\u001b[0;32m   1307\u001b[0m         \u001b[1;32mfor\u001b[0m \u001b[0mtemp_arg\u001b[0m \u001b[1;32min\u001b[0m \u001b[0mtemp_args\u001b[0m\u001b[1;33m:\u001b[0m\u001b[1;33m\u001b[0m\u001b[1;33m\u001b[0m\u001b[0m\n",
      "\u001b[1;32m~\\Anaconda3\\lib\\site-packages\\pyspark\\sql\\utils.py\u001b[0m in \u001b[0;36mdeco\u001b[1;34m(*a, **kw)\u001b[0m\n\u001b[0;32m    132\u001b[0m                 \u001b[1;31m# Hide where the exception came from that shows a non-Pythonic\u001b[0m\u001b[1;33m\u001b[0m\u001b[1;33m\u001b[0m\u001b[1;33m\u001b[0m\u001b[0m\n\u001b[0;32m    133\u001b[0m                 \u001b[1;31m# JVM exception message.\u001b[0m\u001b[1;33m\u001b[0m\u001b[1;33m\u001b[0m\u001b[1;33m\u001b[0m\u001b[0m\n\u001b[1;32m--> 134\u001b[1;33m                 \u001b[0mraise_from\u001b[0m\u001b[1;33m(\u001b[0m\u001b[0mconverted\u001b[0m\u001b[1;33m)\u001b[0m\u001b[1;33m\u001b[0m\u001b[1;33m\u001b[0m\u001b[0m\n\u001b[0m\u001b[0;32m    135\u001b[0m             \u001b[1;32melse\u001b[0m\u001b[1;33m:\u001b[0m\u001b[1;33m\u001b[0m\u001b[1;33m\u001b[0m\u001b[0m\n\u001b[0;32m    136\u001b[0m                 \u001b[1;32mraise\u001b[0m\u001b[1;33m\u001b[0m\u001b[1;33m\u001b[0m\u001b[0m\n",
      "\u001b[1;32m~\\Anaconda3\\lib\\site-packages\\pyspark\\sql\\utils.py\u001b[0m in \u001b[0;36mraise_from\u001b[1;34m(e)\u001b[0m\n",
      "\u001b[1;31mIllegalArgumentException\u001b[0m: java.net.URISyntaxException: Relative path in absolute URI: {\"State\":%22Alabama%22,%22Abbreviation%22:%22AL%22%7D%0A%7B%22State%22:%22Alaska%22,%22Abbreviation%22:%22AK%22%7D%0A%7B%22State%22:%22Arizona%22,%22Abbreviation%22:%22AZ%22%7D%0A%7B%22State%22:%22Arkansas%22,%22Abbreviation%22:%22AR%22%7D%0A%7B%22State%22:%22California%22,%22Abbreviation%22:%22CA%22%7D%0A%7B%22State%22:%22Colorado%22,%22Abbreviation%22:%22CO%22%7D%0A%7B%22State%22:%22Connecticut%22,%22Abbreviation%22:%22CT%22%7D%0A%7B%22State%22:%22Delaware%22,%22Abbreviation%22:%22DE%22%7D%0A%7B%22State%22:%22District%20of%20Columbia%22,%22Abbreviation%22:%22DC%22%7D%0A%7B%22State%22:%22Florida%22,%22Abbreviation%22:%22FL%22%7D%0A%7B%22State%22:%22Georgia%22,%22Abbreviation%22:%22GA%22%7D%0A%7B%22State%22:%22Hawaii%22,%22Abbreviation%22:%22HI%22%7D%0A%7B%22State%22:%22Idaho%22,%22Abbreviation%22:%22ID%22%7D%0A%7B%22State%22:%22Illinois%22,%22Abbreviation%22:%22IL%22%7D%0A%7B%22State%22:%22Indiana%22,%22Abbreviation%22:%22IN%22%7D%0A%7B%22State%22:%22Iowa%22,%22Abbreviation%22:%22IA%22%7D%0A%7B%22State%22:%22Kansas%22,%22Abbreviation%22:%22KS%22%7D%0A%7B%22State%22:%22Kentucky%22,%22Abbreviation%22:%22KY%22%7D%0A%7B%22State%22:%22Louisiana%22,%22Abbreviation%22:%22LA%22%7D%0A%7B%22State%22:%22Maine%22,%22Abbreviation%22:%22ME%22%7D%0A%7B%22State%22:%22Montana%22,%22Abbreviation%22:%22MT%22%7D%0A%7B%22State%22:%22Nebraska%22,%22Abbreviation%22:%22NE%22%7D%0A%7B%22State%22:%22Nevada%22,%22Abbreviation%22:%22NV%22%7D%0A%7B%22State%22:%22New%20Hampshire%22,%22Abbreviation%22:%22NH%22%7D%0A%7B%22State%22:%22New%20Jersey%22,%22Abbreviation%22:%22NJ%22%7D%0A%7B%22State%22:%22New%20Mexico%22,%22Abbreviation%22:%22NM%22%7D%0A%7B%22State%22:%22New%20York%22,%22Abbreviation%22:%22NY%22%7D%0A%7B%22State%22:%22North%20Carolina%22,%22Abbreviation%22:%22NC%22%7D%0A%7B%22State%22:%22North%20Dakota%22,%22Abbreviation%22:%22ND%22%7D%0A%7B%22State%22:%22Ohio%22,%22Abbreviation%22:%22OH%22%7D%0A%7B%22State%22:%22Oklahoma%22,%22Abbreviation%22:%22OK%22%7D%0A%7B%22State%22:%22Oregon%22,%22Abbreviation%22:%22OR%22%7D%0A%7B%22State%22:%22Maryland%22,%22Abbreviation%22:%22MD%22%7D%0A%7B%22State%22:%22Massachusetts%22,%22Abbreviation%22:%22MA%22%7D%0A%7B%22State%22:%22Michigan%22,%22Abbreviation%22:%22MI%22%7D%0A%7B%22State%22:%22Minnesota%22,%22Abbreviation%22:%22MN%22%7D%0A%7B%22State%22:%22Mississippi%22,%22Abbreviation%22:%22MS%22%7D%0A%7B%22State%22:%22Missouri%22,%22Abbreviation%22:%22MO%22%7D%0A%7B%22State%22:%22Pennsylvania%22,%22Abbreviation%22:%22PA%22%7D%0A%7B%22State%22:%22Rhode%20Island%22,%22Abbreviation%22:%22RI%22%7D%0A%7B%22State%22:%22South%20Carolina%22,%22Abbreviation%22:%22SC%22%7D%0A%7B%22State%22:%22South%20Dakota%22,%22Abbreviation%22:%22SD%22%7D%0A%7B%22State%22:%22Tennessee%22,%22Abbreviation%22:%22TN%22%7D%0A%7B%22State%22:%22Texas%22,%22Abbreviation%22:%22TX%22%7D%0A%7B%22State%22:%22Utah%22,%22Abbreviation%22:%22UT%22%7D%0A%7B%22State%22:%22Vermont%22,%22Abbreviation%22:%22VT%22%7D%0A%7B%22State%22:%22Virginia%22,%22Abbreviation%22:%22VA%22%7D%0A%7B%22State%22:%22Washington%22,%22Abbreviation%22:%22WA%22%7D%0A%7B%22State%22:%22West%20Virginia%22,%22Abbreviation%22:%22WV%22%7D%0A%7B%22State%22:%22Wisconsin%22,%22Abbreviation%22:%22WI%22%7D%0A%7B%22State%22:%22Wyoming%22,%22Abbreviation%22:%22WY%22%7D%0A"
     ]
    }
   ],
   "source": [
    "spark.read.json(states_json_string, multiLine=True)"
   ]
  },
  {
   "cell_type": "code",
   "execution_count": 32,
   "metadata": {},
   "outputs": [
    {
     "ename": "NameError",
     "evalue": "name 'SparkSession' is not defined",
     "output_type": "error",
     "traceback": [
      "\u001b[1;31m---------------------------------------------------------------------------\u001b[0m",
      "\u001b[1;31mNameError\u001b[0m                                 Traceback (most recent call last)",
      "\u001b[1;32m<ipython-input-32-5158c16dcce5>\u001b[0m in \u001b[0;36m<module>\u001b[1;34m\u001b[0m\n\u001b[1;32m----> 1\u001b[1;33m \u001b[0mspark\u001b[0m \u001b[1;33m=\u001b[0m \u001b[0mSparkSession\u001b[0m\u001b[0;31m \u001b[0m\u001b[0;31m\\\u001b[0m\u001b[1;33m\u001b[0m\u001b[1;33m\u001b[0m\u001b[0m\n\u001b[0m\u001b[0;32m      2\u001b[0m   \u001b[1;33m.\u001b[0m\u001b[0mbuilder\u001b[0m\u001b[0;31m \u001b[0m\u001b[0;31m\\\u001b[0m\u001b[1;33m\u001b[0m\u001b[1;33m\u001b[0m\u001b[0m\n\u001b[0;32m      3\u001b[0m   \u001b[1;33m.\u001b[0m\u001b[0mappName\u001b[0m\u001b[1;33m(\u001b[0m\u001b[1;34m\"LoadDelta\"\u001b[0m\u001b[1;33m)\u001b[0m\u001b[0;31m \u001b[0m\u001b[0;31m\\\u001b[0m\u001b[1;33m\u001b[0m\u001b[1;33m\u001b[0m\u001b[0m\n\u001b[0;32m      4\u001b[0m   \u001b[1;33m.\u001b[0m\u001b[0mmaster\u001b[0m\u001b[1;33m(\u001b[0m\u001b[1;34m\"local[*]\"\u001b[0m\u001b[1;33m)\u001b[0m\u001b[1;33m\u001b[0m\u001b[1;33m\u001b[0m\u001b[0m\n",
      "\u001b[1;31mNameError\u001b[0m: name 'SparkSession' is not defined"
     ]
    }
   ],
   "source": []
  },
  {
   "cell_type": "code",
   "execution_count": null,
   "metadata": {},
   "outputs": [],
   "source": []
  }
 ],
 "metadata": {
  "kernelspec": {
   "display_name": "Python 3",
   "language": "python",
   "name": "python3"
  },
  "language_info": {
   "codemirror_mode": {
    "name": "ipython",
    "version": 3
   },
   "file_extension": ".py",
   "mimetype": "text/x-python",
   "name": "python",
   "nbconvert_exporter": "python",
   "pygments_lexer": "ipython3",
   "version": "3.7.4"
  }
 },
 "nbformat": 4,
 "nbformat_minor": 2
}
